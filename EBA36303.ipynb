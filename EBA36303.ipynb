{
 "cells": [
  {
   "cell_type": "code",
   "execution_count": 1,
   "metadata": {},
   "outputs": [
    {
     "data": {
      "text/html": [
       "<script>\n",
       "code_show=true; \n",
       "function code_toggle() {\n",
       " if (code_show){\n",
       " $('div.input').hide();\n",
       " } else {\n",
       " $('div.input').show();\n",
       " }\n",
       " code_show = !code_show\n",
       "} \n",
       "$( document ).ready(code_toggle);\n",
       "</script>\n",
       "<form action=\"javascript:code_toggle()\"><input type=\"submit\" value=\"Click here to toggle on/off the raw code.\"></form>"
      ],
      "text/plain": [
       "<IPython.core.display.HTML object>"
      ]
     },
     "execution_count": 1,
     "metadata": {},
     "output_type": "execute_result"
    }
   ],
   "source": [
    "import pandas as pd\n",
    "import numpy as np\n",
    "import plotly.express as px\n",
    "import plotly.graph_objects as go\n",
    "import statsmodels.formula.api as smf \n",
    "import ipywidgets\n",
    "\n",
    "#Visualization of plots\n",
    "from plotly.subplots import make_subplots\n",
    "from tabulate import tabulate\n",
    "\n",
    "# Decision tree: prepare data + estimation\n",
    "from sklearn.preprocessing import LabelEncoder #to encode categorial variables\n",
    "from sklearn.model_selection import train_test_split # split data in training and testing sample\n",
    "from sklearn.tree import DecisionTreeClassifier # decision trees\n",
    "\n",
    "# Visualization of the decision tree\n",
    "from matplotlib import pyplot as plt\n",
    "from sklearn.tree import plot_tree\n",
    "\n",
    "# evaluation metrics\n",
    "from sklearn.metrics import accuracy_score\n",
    "from sklearn.metrics import confusion_matrix\n",
    "from sklearn.metrics import precision_score\n",
    "from sklearn.metrics import recall_score\n",
    "from sklearn.metrics import classification_report\n",
    "from sklearn.metrics import make_scorer\n",
    "\n",
    "from IPython.display import HTML\n",
    "\n",
    "HTML('''<script>\n",
    "code_show=true; \n",
    "function code_toggle() {\n",
    " if (code_show){\n",
    " $('div.input').hide();\n",
    " } else {\n",
    " $('div.input').show();\n",
    " }\n",
    " code_show = !code_show\n",
    "} \n",
    "$( document ).ready(code_toggle);\n",
    "</script>\n",
    "<form action=\"javascript:code_toggle()\"><input type=\"submit\" value=\"Click here to toggle on/off the raw code.\"></form>''')"
   ]
  },
  {
   "cell_type": "markdown",
   "metadata": {},
   "source": [
    "## For PDF file, all plotly plots are only visible on Juypter Notebook Files. "
   ]
  },
  {
   "cell_type": "markdown",
   "metadata": {},
   "source": [
    "**Exercise 1: Performance Measurement (40 points)**"
   ]
  },
  {
   "cell_type": "markdown",
   "metadata": {},
   "source": [
    "Michael is the management accountant at PrimeConnect. He is responsible for preparing graphs for\n",
    "the management report for the executive team. Last year, Michael received feedback that his graphs\n",
    "were poorly designed and misleading. Therefore, you would like to use the knowledge you have\n",
    "learned from the course to support Michael this year (year 2023). You need to use the data Michael\n",
    "has collected. You can find the “PerformanceMeasurement2023.xlsx” Excel file. The variable\n",
    "definitions are listed below."
   ]
  },
  {
   "cell_type": "markdown",
   "metadata": {},
   "source": [
    "**1.** (8 points) Michael prepared two graphs, labeled Graph 1 and Graph 2. He uses Graph 1 to\n",
    "show how well PrimeConnect can attract new customers and the trends of number of the total\n",
    "customers. Michael wants to use Graph 2 shows the financial performance of each category.\n",
    "He uses the profits earned as the measurement. Can you explain to Michael why these graphs\n",
    "are misleading and poorly designed? Whether these graphs are ugly, bad, or wrong graphs?"
   ]
  },
  {
   "cell_type": "markdown",
   "metadata": {},
   "source": [
    "  Graph 1. \n",
    "\n",
    "  For Graph 1. Gained and Lost Customers for Phone Services, we observe: a. ugly; aesthetic problems b. bad; problems related to perception and c. wrong; problems related to mathematic or objectively incorrect. \n",
    "\n",
    "- a. Aesthetically, the graph is difficult to read. The font from x- and y-axis seems to be a bit different which could have been unified.\n",
    "\n",
    "- b. Preceptionally, the graph does not necessarily need a 3-demension grpahically presentation. It appears to be confusing and unclear.\n",
    "\n",
    "- c. Objectively, we see major error on the orange bar for *Precentage of Lost Customers.* The y-axis label should've been in percentage instead of acutal customer numbers. This shows that the data is not cearly presented as two comapred blue and orange are in different unit/measurement.  "
   ]
  },
  {
   "cell_type": "markdown",
   "metadata": {},
   "source": [
    "Graph 2. \n",
    "\n",
    "For Graph 2. Profits by Product, we also observe some significant issues in terms of ugly, bad or wrong presentation. \n",
    "\n",
    "- a. Aesthetically, there was not a need for different colour bars for the categories as Devices and Internet are in Red whereas the rest two is in different colours. This creates confusion unless for specific explination for this choices of illustration. \n",
    "\n",
    "- b. Preceptionally, the graph needs not a 3-demension presentation as well. A 2D bar graph can convey the presentation well enough. In addition, this also creates a misconception on the numbers represented by the bars cannot be ascertained. There is also no explination on what x- and y-axis each represents. \n",
    "\n",
    "- c. Objectively, on y-axis, since the profits of products are so large that they are represented by scientific notation, it is wise to simplified them first and display a clearer numerical y-axis. It is easier to read this way. We can also see that due to the large number on y-axis, we cannot see any presentation for Streaming and this is also misleading mathematically since this seems to present that Streaming is not bringing in any profits at all which could simply be the large y-axis issues disorting the illustration. "
   ]
  },
  {
   "cell_type": "markdown",
   "metadata": {},
   "source": [
    "**2.** Create well-designed versions of Graph 1 and Graph 2 in Python. The file\n",
    "'PerformanceMeasurement2023.xlsx' and 'PerformanceMeasurement2022.xlsx' contain the\n",
    "necessary data. Michael hopes the graph can be interactive. He thinks it would be great to\n",
    "consider the year 2022 data in the analysis as the benchmark. You can find the year 2022 data\n",
    "in 'PerformanceMeasurement2022.xlsx', and the variable definition is the same as the year\n",
    "2023 data."
   ]
  },
  {
   "cell_type": "code",
   "execution_count": 2,
   "metadata": {},
   "outputs": [
    {
     "name": "stderr",
     "output_type": "stream",
     "text": [
      "<ipython-input-2-7c7dd1074032>:3: FutureWarning: The frame.append method is deprecated and will be removed from pandas in a future version. Use pandas.concat instead.\n",
      "  df24 = df23.append(df22, ignore_index=True)\n"
     ]
    }
   ],
   "source": [
    "df22 = pd.read_excel(r'PerformanceMeasurement_2022.xlsx')\n",
    "df23 = pd.read_excel(r'PerformanceMeasurement_2023.xlsx')\n",
    "df24 = df23.append(df22, ignore_index=True)"
   ]
  },
  {
   "cell_type": "markdown",
   "metadata": {},
   "source": [
    "- **2.1** (8 points) For Graph 1, Michael would have a range slider, where you can select the\n",
    "period depicted from 2022 to 2023. And the variables he would like to consider are the new\n",
    "customer and lost customer ratio. The new customer (lost) ratio (PercentNew or PercentLost)\n",
    "equals the number of new (lost) customers (NumberNew or NumberLost) divided by the total\n",
    "number of customers (TotalCustomers).\n",
    "Hint: To create Graph 1 append the 2022 data with the 2023 data and calculate the new and\n",
    "lost customer ratios. The horizontal axis can be the month of each year."
   ]
  },
  {
   "cell_type": "code",
   "execution_count": 3,
   "metadata": {},
   "outputs": [
    {
     "name": "stderr",
     "output_type": "stream",
     "text": [
      "<ipython-input-3-6a461bc50362>:5: FutureWarning: The default value of numeric_only in DataFrameGroupBy.sum is deprecated. In a future version, numeric_only will default to False. Either specify numeric_only or select only columns which should be valid for the function.\n",
      "  df24_phone_2 = pd.DataFrame(df24_phone.groupby(by=['Date_Month']).sum()).reset_index()\n"
     ]
    }
   ],
   "source": [
    "df24['PercentNew_R'] = (df24['NumbNew'] / df24['TotalCustomers'])\n",
    "df24['PercentLost_R'] = (df24['NumbLost'] / df24['TotalCustomers'])\n",
    "df24['Date_Month']=pd.to_datetime(df24['Date']).dt.date\n",
    "df24_phone = df24[df24['Category'] == 'Phone']\n",
    "df24_phone_2 = pd.DataFrame(df24_phone.groupby(by=['Date_Month']).sum()).reset_index()"
   ]
  },
  {
   "cell_type": "code",
   "execution_count": 4,
   "metadata": {},
   "outputs": [
    {
     "data": {
      "application/vnd.plotly.v1+json": {
       "config": {
        "plotlyServerURL": "https://plot.ly"
       },
       "data": [
        {
         "mode": "lines+markers",
         "name": "New Customer Ratio",
         "type": "scatter",
         "x": [
          "2022-01-01",
          "2022-02-01",
          "2022-03-01",
          "2022-04-01",
          "2022-05-01",
          "2022-06-01",
          "2022-07-01",
          "2022-08-01",
          "2022-09-01",
          "2022-10-01",
          "2022-11-01",
          "2022-12-01",
          "2023-01-01",
          "2023-02-01",
          "2023-03-01",
          "2023-04-01",
          "2023-05-01",
          "2023-06-01",
          "2023-07-01",
          "2023-08-01",
          "2023-09-01",
          "2023-10-01",
          "2023-11-01",
          "2023-12-01"
         ],
         "y": [
          0.11671299275476807,
          0.10314731095965138,
          0.11565155663430646,
          0.10917203222502513,
          0.1160847253750602,
          0.10757769639859288,
          0.11447504539092801,
          0.10678014167296149,
          0.11156801383754532,
          0.12377886006341193,
          0.11057781799590277,
          0.10977238926871377,
          0.10995466327471676,
          0.10163891400447223,
          0.10050255281267644,
          0.11117029961180289,
          0.10638737632385785,
          0.10804203472452098,
          0.09976280818649937,
          0.09602797011981043,
          0.10240583900399046,
          0.09908295596821806,
          0.09955788213449213,
          0.09712290034799143
         ]
        },
        {
         "mode": "lines+markers",
         "name": "Lost Customer Ratio",
         "type": "scatter",
         "x": [
          "2022-01-01",
          "2022-02-01",
          "2022-03-01",
          "2022-04-01",
          "2022-05-01",
          "2022-06-01",
          "2022-07-01",
          "2022-08-01",
          "2022-09-01",
          "2022-10-01",
          "2022-11-01",
          "2022-12-01",
          "2023-01-01",
          "2023-02-01",
          "2023-03-01",
          "2023-04-01",
          "2023-05-01",
          "2023-06-01",
          "2023-07-01",
          "2023-08-01",
          "2023-09-01",
          "2023-10-01",
          "2023-11-01",
          "2023-12-01"
         ],
         "y": [
          0.08794528491405323,
          0.07428535451296282,
          0.09759483465412266,
          0.07497944802217602,
          0.08242110879623706,
          0.08046116846631245,
          0.08888742151153985,
          0.07947466861872374,
          0.0829051661483225,
          0.08475216147067137,
          0.07917476913475105,
          0.08681052119324481,
          0.0937365834524597,
          0.06675908836471214,
          0.07180503786680875,
          0.0886169739788527,
          0.08203732623687683,
          0.07810793202454439,
          0.07515744233882725,
          0.0704078399209202,
          0.073399044960735,
          0.07205871954858327,
          0.0757891275934966,
          0.07392058435178107
         ]
        }
       ],
       "layout": {
        "template": {
         "data": {
          "bar": [
           {
            "error_x": {
             "color": "#2a3f5f"
            },
            "error_y": {
             "color": "#2a3f5f"
            },
            "marker": {
             "line": {
              "color": "#E5ECF6",
              "width": 0.5
             },
             "pattern": {
              "fillmode": "overlay",
              "size": 10,
              "solidity": 0.2
             }
            },
            "type": "bar"
           }
          ],
          "barpolar": [
           {
            "marker": {
             "line": {
              "color": "#E5ECF6",
              "width": 0.5
             },
             "pattern": {
              "fillmode": "overlay",
              "size": 10,
              "solidity": 0.2
             }
            },
            "type": "barpolar"
           }
          ],
          "carpet": [
           {
            "aaxis": {
             "endlinecolor": "#2a3f5f",
             "gridcolor": "white",
             "linecolor": "white",
             "minorgridcolor": "white",
             "startlinecolor": "#2a3f5f"
            },
            "baxis": {
             "endlinecolor": "#2a3f5f",
             "gridcolor": "white",
             "linecolor": "white",
             "minorgridcolor": "white",
             "startlinecolor": "#2a3f5f"
            },
            "type": "carpet"
           }
          ],
          "choropleth": [
           {
            "colorbar": {
             "outlinewidth": 0,
             "ticks": ""
            },
            "type": "choropleth"
           }
          ],
          "contour": [
           {
            "colorbar": {
             "outlinewidth": 0,
             "ticks": ""
            },
            "colorscale": [
             [
              0,
              "#0d0887"
             ],
             [
              0.1111111111111111,
              "#46039f"
             ],
             [
              0.2222222222222222,
              "#7201a8"
             ],
             [
              0.3333333333333333,
              "#9c179e"
             ],
             [
              0.4444444444444444,
              "#bd3786"
             ],
             [
              0.5555555555555556,
              "#d8576b"
             ],
             [
              0.6666666666666666,
              "#ed7953"
             ],
             [
              0.7777777777777778,
              "#fb9f3a"
             ],
             [
              0.8888888888888888,
              "#fdca26"
             ],
             [
              1,
              "#f0f921"
             ]
            ],
            "type": "contour"
           }
          ],
          "contourcarpet": [
           {
            "colorbar": {
             "outlinewidth": 0,
             "ticks": ""
            },
            "type": "contourcarpet"
           }
          ],
          "heatmap": [
           {
            "colorbar": {
             "outlinewidth": 0,
             "ticks": ""
            },
            "colorscale": [
             [
              0,
              "#0d0887"
             ],
             [
              0.1111111111111111,
              "#46039f"
             ],
             [
              0.2222222222222222,
              "#7201a8"
             ],
             [
              0.3333333333333333,
              "#9c179e"
             ],
             [
              0.4444444444444444,
              "#bd3786"
             ],
             [
              0.5555555555555556,
              "#d8576b"
             ],
             [
              0.6666666666666666,
              "#ed7953"
             ],
             [
              0.7777777777777778,
              "#fb9f3a"
             ],
             [
              0.8888888888888888,
              "#fdca26"
             ],
             [
              1,
              "#f0f921"
             ]
            ],
            "type": "heatmap"
           }
          ],
          "heatmapgl": [
           {
            "colorbar": {
             "outlinewidth": 0,
             "ticks": ""
            },
            "colorscale": [
             [
              0,
              "#0d0887"
             ],
             [
              0.1111111111111111,
              "#46039f"
             ],
             [
              0.2222222222222222,
              "#7201a8"
             ],
             [
              0.3333333333333333,
              "#9c179e"
             ],
             [
              0.4444444444444444,
              "#bd3786"
             ],
             [
              0.5555555555555556,
              "#d8576b"
             ],
             [
              0.6666666666666666,
              "#ed7953"
             ],
             [
              0.7777777777777778,
              "#fb9f3a"
             ],
             [
              0.8888888888888888,
              "#fdca26"
             ],
             [
              1,
              "#f0f921"
             ]
            ],
            "type": "heatmapgl"
           }
          ],
          "histogram": [
           {
            "marker": {
             "pattern": {
              "fillmode": "overlay",
              "size": 10,
              "solidity": 0.2
             }
            },
            "type": "histogram"
           }
          ],
          "histogram2d": [
           {
            "colorbar": {
             "outlinewidth": 0,
             "ticks": ""
            },
            "colorscale": [
             [
              0,
              "#0d0887"
             ],
             [
              0.1111111111111111,
              "#46039f"
             ],
             [
              0.2222222222222222,
              "#7201a8"
             ],
             [
              0.3333333333333333,
              "#9c179e"
             ],
             [
              0.4444444444444444,
              "#bd3786"
             ],
             [
              0.5555555555555556,
              "#d8576b"
             ],
             [
              0.6666666666666666,
              "#ed7953"
             ],
             [
              0.7777777777777778,
              "#fb9f3a"
             ],
             [
              0.8888888888888888,
              "#fdca26"
             ],
             [
              1,
              "#f0f921"
             ]
            ],
            "type": "histogram2d"
           }
          ],
          "histogram2dcontour": [
           {
            "colorbar": {
             "outlinewidth": 0,
             "ticks": ""
            },
            "colorscale": [
             [
              0,
              "#0d0887"
             ],
             [
              0.1111111111111111,
              "#46039f"
             ],
             [
              0.2222222222222222,
              "#7201a8"
             ],
             [
              0.3333333333333333,
              "#9c179e"
             ],
             [
              0.4444444444444444,
              "#bd3786"
             ],
             [
              0.5555555555555556,
              "#d8576b"
             ],
             [
              0.6666666666666666,
              "#ed7953"
             ],
             [
              0.7777777777777778,
              "#fb9f3a"
             ],
             [
              0.8888888888888888,
              "#fdca26"
             ],
             [
              1,
              "#f0f921"
             ]
            ],
            "type": "histogram2dcontour"
           }
          ],
          "mesh3d": [
           {
            "colorbar": {
             "outlinewidth": 0,
             "ticks": ""
            },
            "type": "mesh3d"
           }
          ],
          "parcoords": [
           {
            "line": {
             "colorbar": {
              "outlinewidth": 0,
              "ticks": ""
             }
            },
            "type": "parcoords"
           }
          ],
          "pie": [
           {
            "automargin": true,
            "type": "pie"
           }
          ],
          "scatter": [
           {
            "fillpattern": {
             "fillmode": "overlay",
             "size": 10,
             "solidity": 0.2
            },
            "type": "scatter"
           }
          ],
          "scatter3d": [
           {
            "line": {
             "colorbar": {
              "outlinewidth": 0,
              "ticks": ""
             }
            },
            "marker": {
             "colorbar": {
              "outlinewidth": 0,
              "ticks": ""
             }
            },
            "type": "scatter3d"
           }
          ],
          "scattercarpet": [
           {
            "marker": {
             "colorbar": {
              "outlinewidth": 0,
              "ticks": ""
             }
            },
            "type": "scattercarpet"
           }
          ],
          "scattergeo": [
           {
            "marker": {
             "colorbar": {
              "outlinewidth": 0,
              "ticks": ""
             }
            },
            "type": "scattergeo"
           }
          ],
          "scattergl": [
           {
            "marker": {
             "colorbar": {
              "outlinewidth": 0,
              "ticks": ""
             }
            },
            "type": "scattergl"
           }
          ],
          "scattermapbox": [
           {
            "marker": {
             "colorbar": {
              "outlinewidth": 0,
              "ticks": ""
             }
            },
            "type": "scattermapbox"
           }
          ],
          "scatterpolar": [
           {
            "marker": {
             "colorbar": {
              "outlinewidth": 0,
              "ticks": ""
             }
            },
            "type": "scatterpolar"
           }
          ],
          "scatterpolargl": [
           {
            "marker": {
             "colorbar": {
              "outlinewidth": 0,
              "ticks": ""
             }
            },
            "type": "scatterpolargl"
           }
          ],
          "scatterternary": [
           {
            "marker": {
             "colorbar": {
              "outlinewidth": 0,
              "ticks": ""
             }
            },
            "type": "scatterternary"
           }
          ],
          "surface": [
           {
            "colorbar": {
             "outlinewidth": 0,
             "ticks": ""
            },
            "colorscale": [
             [
              0,
              "#0d0887"
             ],
             [
              0.1111111111111111,
              "#46039f"
             ],
             [
              0.2222222222222222,
              "#7201a8"
             ],
             [
              0.3333333333333333,
              "#9c179e"
             ],
             [
              0.4444444444444444,
              "#bd3786"
             ],
             [
              0.5555555555555556,
              "#d8576b"
             ],
             [
              0.6666666666666666,
              "#ed7953"
             ],
             [
              0.7777777777777778,
              "#fb9f3a"
             ],
             [
              0.8888888888888888,
              "#fdca26"
             ],
             [
              1,
              "#f0f921"
             ]
            ],
            "type": "surface"
           }
          ],
          "table": [
           {
            "cells": {
             "fill": {
              "color": "#EBF0F8"
             },
             "line": {
              "color": "white"
             }
            },
            "header": {
             "fill": {
              "color": "#C8D4E3"
             },
             "line": {
              "color": "white"
             }
            },
            "type": "table"
           }
          ]
         },
         "layout": {
          "annotationdefaults": {
           "arrowcolor": "#2a3f5f",
           "arrowhead": 0,
           "arrowwidth": 1
          },
          "autotypenumbers": "strict",
          "coloraxis": {
           "colorbar": {
            "outlinewidth": 0,
            "ticks": ""
           }
          },
          "colorscale": {
           "diverging": [
            [
             0,
             "#8e0152"
            ],
            [
             0.1,
             "#c51b7d"
            ],
            [
             0.2,
             "#de77ae"
            ],
            [
             0.3,
             "#f1b6da"
            ],
            [
             0.4,
             "#fde0ef"
            ],
            [
             0.5,
             "#f7f7f7"
            ],
            [
             0.6,
             "#e6f5d0"
            ],
            [
             0.7,
             "#b8e186"
            ],
            [
             0.8,
             "#7fbc41"
            ],
            [
             0.9,
             "#4d9221"
            ],
            [
             1,
             "#276419"
            ]
           ],
           "sequential": [
            [
             0,
             "#0d0887"
            ],
            [
             0.1111111111111111,
             "#46039f"
            ],
            [
             0.2222222222222222,
             "#7201a8"
            ],
            [
             0.3333333333333333,
             "#9c179e"
            ],
            [
             0.4444444444444444,
             "#bd3786"
            ],
            [
             0.5555555555555556,
             "#d8576b"
            ],
            [
             0.6666666666666666,
             "#ed7953"
            ],
            [
             0.7777777777777778,
             "#fb9f3a"
            ],
            [
             0.8888888888888888,
             "#fdca26"
            ],
            [
             1,
             "#f0f921"
            ]
           ],
           "sequentialminus": [
            [
             0,
             "#0d0887"
            ],
            [
             0.1111111111111111,
             "#46039f"
            ],
            [
             0.2222222222222222,
             "#7201a8"
            ],
            [
             0.3333333333333333,
             "#9c179e"
            ],
            [
             0.4444444444444444,
             "#bd3786"
            ],
            [
             0.5555555555555556,
             "#d8576b"
            ],
            [
             0.6666666666666666,
             "#ed7953"
            ],
            [
             0.7777777777777778,
             "#fb9f3a"
            ],
            [
             0.8888888888888888,
             "#fdca26"
            ],
            [
             1,
             "#f0f921"
            ]
           ]
          },
          "colorway": [
           "#636efa",
           "#EF553B",
           "#00cc96",
           "#ab63fa",
           "#FFA15A",
           "#19d3f3",
           "#FF6692",
           "#B6E880",
           "#FF97FF",
           "#FECB52"
          ],
          "font": {
           "color": "#2a3f5f"
          },
          "geo": {
           "bgcolor": "white",
           "lakecolor": "white",
           "landcolor": "#E5ECF6",
           "showlakes": true,
           "showland": true,
           "subunitcolor": "white"
          },
          "hoverlabel": {
           "align": "left"
          },
          "hovermode": "closest",
          "mapbox": {
           "style": "light"
          },
          "paper_bgcolor": "white",
          "plot_bgcolor": "#E5ECF6",
          "polar": {
           "angularaxis": {
            "gridcolor": "white",
            "linecolor": "white",
            "ticks": ""
           },
           "bgcolor": "#E5ECF6",
           "radialaxis": {
            "gridcolor": "white",
            "linecolor": "white",
            "ticks": ""
           }
          },
          "scene": {
           "xaxis": {
            "backgroundcolor": "#E5ECF6",
            "gridcolor": "white",
            "gridwidth": 2,
            "linecolor": "white",
            "showbackground": true,
            "ticks": "",
            "zerolinecolor": "white"
           },
           "yaxis": {
            "backgroundcolor": "#E5ECF6",
            "gridcolor": "white",
            "gridwidth": 2,
            "linecolor": "white",
            "showbackground": true,
            "ticks": "",
            "zerolinecolor": "white"
           },
           "zaxis": {
            "backgroundcolor": "#E5ECF6",
            "gridcolor": "white",
            "gridwidth": 2,
            "linecolor": "white",
            "showbackground": true,
            "ticks": "",
            "zerolinecolor": "white"
           }
          },
          "shapedefaults": {
           "line": {
            "color": "#2a3f5f"
           }
          },
          "ternary": {
           "aaxis": {
            "gridcolor": "white",
            "linecolor": "white",
            "ticks": ""
           },
           "baxis": {
            "gridcolor": "white",
            "linecolor": "white",
            "ticks": ""
           },
           "bgcolor": "#E5ECF6",
           "caxis": {
            "gridcolor": "white",
            "linecolor": "white",
            "ticks": ""
           }
          },
          "title": {
           "x": 0.05
          },
          "xaxis": {
           "automargin": true,
           "gridcolor": "white",
           "linecolor": "white",
           "ticks": "",
           "title": {
            "standoff": 15
           },
           "zerolinecolor": "white",
           "zerolinewidth": 2
          },
          "yaxis": {
           "automargin": true,
           "gridcolor": "white",
           "linecolor": "white",
           "ticks": "",
           "title": {
            "standoff": 15
           },
           "zerolinecolor": "white",
           "zerolinewidth": 2
          }
         }
        },
        "title": {
         "text": "Graph 1: Gained and Lost Customers for Phone Services"
        },
        "xaxis": {
         "rangeslider": {
          "visible": true
         },
         "title": {
          "font": {
           "size": 10
          },
          "text": "Date"
         },
         "type": "date"
        },
        "yaxis": {
         "title": {
          "font": {
           "size": 10
          },
          "text": "Customer Ratio"
         }
        }
       }
      }
     },
     "metadata": {},
     "output_type": "display_data"
    }
   ],
   "source": [
    "# Create a figure\n",
    "fig = go.Figure()\n",
    "\n",
    "# Add traces for new and lost customer ratios\n",
    "fig.add_trace(\n",
    "    go.Scatter(x=list(df24_phone_2['Date_Month']), \n",
    "               y=list(df24_phone_2['PercentNew_R']),\n",
    "               mode='lines+markers',\n",
    "               name=\"New Customer Ratio\")\n",
    ")\n",
    "\n",
    "fig.add_trace(\n",
    "    go.Scatter(x=list(df24_phone_2['Date_Month']), \n",
    "               y=list(df24_phone_2['PercentLost_R']),\n",
    "               mode='lines+markers',\n",
    "               name=\"Lost Customer Ratio\")\n",
    ")\n",
    "\n",
    "# Set title\n",
    "fig.update_layout(\n",
    "    title_text=\"Graph 1: Gained and Lost Customers for Phone Services\",\n",
    ")\n",
    "\n",
    "# Update x-axis and y-axis titles\n",
    "fig.update_xaxes(\n",
    "    title_text=\"Date\",\n",
    "    title_font={\"size\": 10}\n",
    ")\n",
    "\n",
    "fig.update_yaxes(\n",
    "    title_text=\"Customer Ratio\",\n",
    "    title_font={\"size\": 10}\n",
    ")\n",
    "\n",
    "# Add range slider and buttons\n",
    "fig.update_layout(\n",
    "    xaxis=dict(\n",
    "        rangeslider=dict(\n",
    "            visible=True\n",
    "        ),\n",
    "        type=\"date\"\n",
    "    )\n",
    ")\n",
    "\n",
    "fig.show()\n"
   ]
  },
  {
   "cell_type": "markdown",
   "metadata": {},
   "source": [
    "- **2.2** (8 points) For Graph 2, Michael would like to have buttons where the category of profit\n",
    "can be selected. And for each category, he hopes to see the profits for year 2023.\n",
    "Hint: To create Graph 1, use the 2023 data and create buttons for selecting category to display\n",
    "profits."
   ]
  },
  {
   "cell_type": "code",
   "execution_count": 5,
   "metadata": {},
   "outputs": [
    {
     "data": {
      "text/plain": [
       "['Phone', 'Internet', 'Streaming', 'Online Security', 'Devices']"
      ]
     },
     "execution_count": 5,
     "metadata": {},
     "output_type": "execute_result"
    }
   ],
   "source": [
    "buttons = []\n",
    "i = 0\n",
    "\n",
    "fig = go.Figure()\n",
    "\n",
    "category_list = list(df23['Category'].unique())\n",
    "\n",
    "category_list"
   ]
  },
  {
   "cell_type": "code",
   "execution_count": 6,
   "metadata": {},
   "outputs": [
    {
     "data": {
      "application/vnd.plotly.v1+json": {
       "config": {
        "plotlyServerURL": "https://plot.ly"
       },
       "data": [
        {
         "name": "Phone",
         "type": "bar",
         "visible": true,
         "x": [
          "2023-01-01T00:00:00",
          "2023-02-01T00:00:00",
          "2023-03-01T00:00:00",
          "2023-04-01T00:00:00",
          "2023-05-01T00:00:00",
          "2023-06-01T00:00:00",
          "2023-07-01T00:00:00",
          "2023-08-01T00:00:00",
          "2023-09-01T00:00:00",
          "2023-10-01T00:00:00",
          "2023-11-01T00:00:00",
          "2023-12-01T00:00:00",
          "2023-01-01T00:00:00",
          "2023-02-01T00:00:00",
          "2023-03-01T00:00:00",
          "2023-04-01T00:00:00",
          "2023-05-01T00:00:00",
          "2023-06-01T00:00:00",
          "2023-07-01T00:00:00",
          "2023-08-01T00:00:00",
          "2023-09-01T00:00:00",
          "2023-10-01T00:00:00",
          "2023-11-01T00:00:00",
          "2023-12-01T00:00:00",
          "2023-01-01T00:00:00",
          "2023-02-01T00:00:00",
          "2023-03-01T00:00:00",
          "2023-04-01T00:00:00",
          "2023-05-01T00:00:00",
          "2023-06-01T00:00:00",
          "2023-07-01T00:00:00",
          "2023-08-01T00:00:00",
          "2023-09-01T00:00:00",
          "2023-10-01T00:00:00",
          "2023-11-01T00:00:00",
          "2023-12-01T00:00:00",
          "2023-01-01T00:00:00",
          "2023-02-01T00:00:00",
          "2023-03-01T00:00:00",
          "2023-04-01T00:00:00",
          "2023-05-01T00:00:00",
          "2023-06-01T00:00:00",
          "2023-07-01T00:00:00",
          "2023-08-01T00:00:00",
          "2023-09-01T00:00:00",
          "2023-10-01T00:00:00",
          "2023-11-01T00:00:00",
          "2023-12-01T00:00:00"
         ],
         "y": [
          69683040,
          62968000,
          63077910,
          75988800,
          74676000,
          67168170,
          64219693.99999999,
          57802836,
          72535500,
          61166752,
          63893310,
          65621925,
          37328171,
          46416672,
          49119700,
          49898750,
          51129540,
          49069584,
          42642432,
          35639520,
          41512176,
          45251712,
          44788800,
          45803212,
          43300260,
          40095479,
          42489216,
          42331020,
          50561280,
          48804095,
          40917506,
          52423650,
          41856320,
          47726800,
          41831316,
          48445250,
          38196268,
          44599500,
          49453400,
          41242680,
          39779512,
          40211898,
          38326932,
          42397740,
          46940040,
          43069824,
          42120400,
          39387306
         ]
        },
        {
         "name": "Internet",
         "type": "bar",
         "visible": true,
         "x": [
          "2023-01-01T00:00:00",
          "2023-02-01T00:00:00",
          "2023-03-01T00:00:00",
          "2023-04-01T00:00:00",
          "2023-05-01T00:00:00",
          "2023-06-01T00:00:00",
          "2023-07-01T00:00:00",
          "2023-08-01T00:00:00",
          "2023-09-01T00:00:00",
          "2023-10-01T00:00:00",
          "2023-11-01T00:00:00",
          "2023-12-01T00:00:00",
          "2023-01-01T00:00:00",
          "2023-02-01T00:00:00",
          "2023-03-01T00:00:00",
          "2023-04-01T00:00:00",
          "2023-05-01T00:00:00",
          "2023-06-01T00:00:00",
          "2023-07-01T00:00:00",
          "2023-08-01T00:00:00",
          "2023-09-01T00:00:00",
          "2023-10-01T00:00:00",
          "2023-11-01T00:00:00",
          "2023-12-01T00:00:00",
          "2023-01-01T00:00:00",
          "2023-02-01T00:00:00",
          "2023-03-01T00:00:00",
          "2023-04-01T00:00:00",
          "2023-05-01T00:00:00",
          "2023-06-01T00:00:00",
          "2023-07-01T00:00:00",
          "2023-08-01T00:00:00",
          "2023-09-01T00:00:00",
          "2023-10-01T00:00:00",
          "2023-11-01T00:00:00",
          "2023-12-01T00:00:00",
          "2023-01-01T00:00:00",
          "2023-02-01T00:00:00",
          "2023-03-01T00:00:00",
          "2023-04-01T00:00:00",
          "2023-05-01T00:00:00",
          "2023-06-01T00:00:00",
          "2023-07-01T00:00:00",
          "2023-08-01T00:00:00",
          "2023-09-01T00:00:00",
          "2023-10-01T00:00:00",
          "2023-11-01T00:00:00",
          "2023-12-01T00:00:00"
         ],
         "y": [
          61346880,
          54526200,
          69915960,
          58360500,
          60012160,
          60585890,
          46044752,
          58102575,
          56498750,
          46468752,
          57763216,
          53467686,
          28644660.000000004,
          28414890,
          29268614,
          28616692,
          26006050,
          36150664,
          33076240,
          34966008,
          31831800,
          30497472.000000004,
          27646500,
          35109981,
          34465500,
          24604800,
          31024000,
          32724320,
          34934460,
          32641852,
          25020800,
          33133800,
          27059508,
          25518069,
          30349944.000000004,
          33448800,
          28820817,
          34214400,
          32839750,
          23671050,
          28701608,
          24527634,
          36688826,
          28819743,
          26916900,
          33362500,
          25182420,
          28850400
         ]
        },
        {
         "name": "Streaming",
         "type": "bar",
         "visible": true,
         "x": [
          "2023-01-01T00:00:00",
          "2023-02-01T00:00:00",
          "2023-03-01T00:00:00",
          "2023-04-01T00:00:00",
          "2023-05-01T00:00:00",
          "2023-06-01T00:00:00",
          "2023-07-01T00:00:00",
          "2023-08-01T00:00:00",
          "2023-09-01T00:00:00",
          "2023-10-01T00:00:00",
          "2023-11-01T00:00:00",
          "2023-12-01T00:00:00",
          "2023-01-01T00:00:00",
          "2023-02-01T00:00:00",
          "2023-03-01T00:00:00",
          "2023-04-01T00:00:00",
          "2023-05-01T00:00:00",
          "2023-06-01T00:00:00",
          "2023-07-01T00:00:00",
          "2023-08-01T00:00:00",
          "2023-09-01T00:00:00",
          "2023-10-01T00:00:00",
          "2023-11-01T00:00:00",
          "2023-12-01T00:00:00",
          "2023-01-01T00:00:00",
          "2023-02-01T00:00:00",
          "2023-03-01T00:00:00",
          "2023-04-01T00:00:00",
          "2023-05-01T00:00:00",
          "2023-06-01T00:00:00",
          "2023-07-01T00:00:00",
          "2023-08-01T00:00:00",
          "2023-09-01T00:00:00",
          "2023-10-01T00:00:00",
          "2023-11-01T00:00:00",
          "2023-12-01T00:00:00",
          "2023-01-01T00:00:00",
          "2023-02-01T00:00:00",
          "2023-03-01T00:00:00",
          "2023-04-01T00:00:00",
          "2023-05-01T00:00:00",
          "2023-06-01T00:00:00",
          "2023-07-01T00:00:00",
          "2023-08-01T00:00:00",
          "2023-09-01T00:00:00",
          "2023-10-01T00:00:00",
          "2023-11-01T00:00:00",
          "2023-12-01T00:00:00"
         ],
         "y": [
          -2015710,
          -1409401.0000000002,
          -1398229.0000000002,
          -1691200,
          -1524240,
          -950310,
          -1687840,
          -1523520,
          -1269840,
          -1528416,
          -1142640,
          -1802340,
          -977616,
          -508425,
          -1016700,
          -757232.0000000001,
          -770526,
          -647808,
          -608400,
          -755440.0000000001,
          -948780.0000000001,
          -920720,
          -772236,
          -607410,
          -577065,
          -511725,
          -579615,
          -907060.0000000001,
          -1166391,
          -1378000,
          -587775,
          -1246860,
          -1002672,
          -1004832,
          -523275,
          -839160,
          -814680,
          -1020450,
          -1363600,
          -515175,
          -821400,
          -511125,
          -1156510,
          -983952,
          -983952,
          -831600,
          -1318600,
          -1178440
         ]
        },
        {
         "name": "Online Security",
         "type": "bar",
         "visible": true,
         "x": [
          "2023-01-01T00:00:00",
          "2023-02-01T00:00:00",
          "2023-03-01T00:00:00",
          "2023-04-01T00:00:00",
          "2023-05-01T00:00:00",
          "2023-06-01T00:00:00",
          "2023-07-01T00:00:00",
          "2023-08-01T00:00:00",
          "2023-09-01T00:00:00",
          "2023-10-01T00:00:00",
          "2023-11-01T00:00:00",
          "2023-12-01T00:00:00",
          "2023-01-01T00:00:00",
          "2023-02-01T00:00:00",
          "2023-03-01T00:00:00",
          "2023-04-01T00:00:00",
          "2023-05-01T00:00:00",
          "2023-06-01T00:00:00",
          "2023-07-01T00:00:00",
          "2023-08-01T00:00:00",
          "2023-09-01T00:00:00",
          "2023-10-01T00:00:00",
          "2023-11-01T00:00:00",
          "2023-12-01T00:00:00",
          "2023-01-01T00:00:00",
          "2023-02-01T00:00:00",
          "2023-03-01T00:00:00",
          "2023-04-01T00:00:00",
          "2023-05-01T00:00:00",
          "2023-06-01T00:00:00",
          "2023-07-01T00:00:00",
          "2023-08-01T00:00:00",
          "2023-09-01T00:00:00",
          "2023-10-01T00:00:00",
          "2023-11-01T00:00:00",
          "2023-12-01T00:00:00",
          "2023-01-01T00:00:00",
          "2023-02-01T00:00:00",
          "2023-03-01T00:00:00",
          "2023-04-01T00:00:00",
          "2023-05-01T00:00:00",
          "2023-06-01T00:00:00",
          "2023-07-01T00:00:00",
          "2023-08-01T00:00:00",
          "2023-09-01T00:00:00",
          "2023-10-01T00:00:00",
          "2023-11-01T00:00:00",
          "2023-12-01T00:00:00"
         ],
         "y": [
          3553200.0000000005,
          2342484,
          1921500,
          3501680,
          2859575.9999999995,
          3469871.9999999995,
          2012304,
          4093440,
          2757024,
          2390850,
          2997600,
          2499234,
          1815520,
          1925235,
          1542060,
          1749645,
          927104.9999999999,
          1429120,
          1153686,
          1542141,
          822120,
          989725,
          1383480,
          1713725.9999999998,
          1530224,
          1235328,
          1014624,
          1926342,
          2078720,
          2118350,
          1199814,
          977400,
          1906515,
          988505,
          1246630,
          864810,
          810500,
          2067660,
          2071440,
          1180440,
          1343544,
          1658664,
          1482845,
          2051909.9999999998,
          966000,
          1766880,
          931094.9999999999,
          1531640
         ]
        },
        {
         "name": "Devices",
         "type": "bar",
         "visible": true,
         "x": [
          "2023-01-01T00:00:00",
          "2023-02-01T00:00:00",
          "2023-03-01T00:00:00",
          "2023-04-01T00:00:00",
          "2023-05-01T00:00:00",
          "2023-06-01T00:00:00",
          "2023-07-01T00:00:00",
          "2023-08-01T00:00:00",
          "2023-09-01T00:00:00",
          "2023-10-01T00:00:00",
          "2023-11-01T00:00:00",
          "2023-12-01T00:00:00",
          "2023-01-01T00:00:00",
          "2023-02-01T00:00:00",
          "2023-03-01T00:00:00",
          "2023-04-01T00:00:00",
          "2023-05-01T00:00:00",
          "2023-06-01T00:00:00",
          "2023-07-01T00:00:00",
          "2023-08-01T00:00:00",
          "2023-09-01T00:00:00",
          "2023-10-01T00:00:00",
          "2023-11-01T00:00:00",
          "2023-12-01T00:00:00",
          "2023-01-01T00:00:00",
          "2023-02-01T00:00:00",
          "2023-03-01T00:00:00",
          "2023-04-01T00:00:00",
          "2023-05-01T00:00:00",
          "2023-06-01T00:00:00",
          "2023-07-01T00:00:00",
          "2023-08-01T00:00:00",
          "2023-09-01T00:00:00",
          "2023-10-01T00:00:00",
          "2023-11-01T00:00:00",
          "2023-12-01T00:00:00",
          "2023-01-01T00:00:00",
          "2023-02-01T00:00:00",
          "2023-03-01T00:00:00",
          "2023-04-01T00:00:00",
          "2023-05-01T00:00:00",
          "2023-06-01T00:00:00",
          "2023-07-01T00:00:00",
          "2023-08-01T00:00:00",
          "2023-09-01T00:00:00",
          "2023-10-01T00:00:00",
          "2023-11-01T00:00:00",
          "2023-12-01T00:00:00"
         ],
         "y": [
          7466256,
          12803720,
          10948368,
          7165440,
          10636808.000000002,
          13760712,
          9606780,
          9280845,
          12586428,
          12054636,
          9026115,
          10725012,
          8892793,
          5934082,
          6433273,
          7653477,
          6338880,
          5630508,
          6112710,
          5548608,
          5852220,
          9480768,
          5864364,
          5978280,
          5238695,
          5752560,
          7609927,
          9921971,
          11322062,
          10195600,
          7912960,
          7708680,
          8224020,
          7023900,
          8832800,
          10139976,
          10910340,
          11430609,
          12861200,
          13584480,
          13278720,
          6385288.000000001,
          9223740,
          12084912,
          8247136,
          13567520,
          7863680,
          5416565
         ]
        }
       ],
       "layout": {
        "autosize": false,
        "height": 800,
        "template": {
         "data": {
          "bar": [
           {
            "error_x": {
             "color": "#2a3f5f"
            },
            "error_y": {
             "color": "#2a3f5f"
            },
            "marker": {
             "line": {
              "color": "#E5ECF6",
              "width": 0.5
             },
             "pattern": {
              "fillmode": "overlay",
              "size": 10,
              "solidity": 0.2
             }
            },
            "type": "bar"
           }
          ],
          "barpolar": [
           {
            "marker": {
             "line": {
              "color": "#E5ECF6",
              "width": 0.5
             },
             "pattern": {
              "fillmode": "overlay",
              "size": 10,
              "solidity": 0.2
             }
            },
            "type": "barpolar"
           }
          ],
          "carpet": [
           {
            "aaxis": {
             "endlinecolor": "#2a3f5f",
             "gridcolor": "white",
             "linecolor": "white",
             "minorgridcolor": "white",
             "startlinecolor": "#2a3f5f"
            },
            "baxis": {
             "endlinecolor": "#2a3f5f",
             "gridcolor": "white",
             "linecolor": "white",
             "minorgridcolor": "white",
             "startlinecolor": "#2a3f5f"
            },
            "type": "carpet"
           }
          ],
          "choropleth": [
           {
            "colorbar": {
             "outlinewidth": 0,
             "ticks": ""
            },
            "type": "choropleth"
           }
          ],
          "contour": [
           {
            "colorbar": {
             "outlinewidth": 0,
             "ticks": ""
            },
            "colorscale": [
             [
              0,
              "#0d0887"
             ],
             [
              0.1111111111111111,
              "#46039f"
             ],
             [
              0.2222222222222222,
              "#7201a8"
             ],
             [
              0.3333333333333333,
              "#9c179e"
             ],
             [
              0.4444444444444444,
              "#bd3786"
             ],
             [
              0.5555555555555556,
              "#d8576b"
             ],
             [
              0.6666666666666666,
              "#ed7953"
             ],
             [
              0.7777777777777778,
              "#fb9f3a"
             ],
             [
              0.8888888888888888,
              "#fdca26"
             ],
             [
              1,
              "#f0f921"
             ]
            ],
            "type": "contour"
           }
          ],
          "contourcarpet": [
           {
            "colorbar": {
             "outlinewidth": 0,
             "ticks": ""
            },
            "type": "contourcarpet"
           }
          ],
          "heatmap": [
           {
            "colorbar": {
             "outlinewidth": 0,
             "ticks": ""
            },
            "colorscale": [
             [
              0,
              "#0d0887"
             ],
             [
              0.1111111111111111,
              "#46039f"
             ],
             [
              0.2222222222222222,
              "#7201a8"
             ],
             [
              0.3333333333333333,
              "#9c179e"
             ],
             [
              0.4444444444444444,
              "#bd3786"
             ],
             [
              0.5555555555555556,
              "#d8576b"
             ],
             [
              0.6666666666666666,
              "#ed7953"
             ],
             [
              0.7777777777777778,
              "#fb9f3a"
             ],
             [
              0.8888888888888888,
              "#fdca26"
             ],
             [
              1,
              "#f0f921"
             ]
            ],
            "type": "heatmap"
           }
          ],
          "heatmapgl": [
           {
            "colorbar": {
             "outlinewidth": 0,
             "ticks": ""
            },
            "colorscale": [
             [
              0,
              "#0d0887"
             ],
             [
              0.1111111111111111,
              "#46039f"
             ],
             [
              0.2222222222222222,
              "#7201a8"
             ],
             [
              0.3333333333333333,
              "#9c179e"
             ],
             [
              0.4444444444444444,
              "#bd3786"
             ],
             [
              0.5555555555555556,
              "#d8576b"
             ],
             [
              0.6666666666666666,
              "#ed7953"
             ],
             [
              0.7777777777777778,
              "#fb9f3a"
             ],
             [
              0.8888888888888888,
              "#fdca26"
             ],
             [
              1,
              "#f0f921"
             ]
            ],
            "type": "heatmapgl"
           }
          ],
          "histogram": [
           {
            "marker": {
             "pattern": {
              "fillmode": "overlay",
              "size": 10,
              "solidity": 0.2
             }
            },
            "type": "histogram"
           }
          ],
          "histogram2d": [
           {
            "colorbar": {
             "outlinewidth": 0,
             "ticks": ""
            },
            "colorscale": [
             [
              0,
              "#0d0887"
             ],
             [
              0.1111111111111111,
              "#46039f"
             ],
             [
              0.2222222222222222,
              "#7201a8"
             ],
             [
              0.3333333333333333,
              "#9c179e"
             ],
             [
              0.4444444444444444,
              "#bd3786"
             ],
             [
              0.5555555555555556,
              "#d8576b"
             ],
             [
              0.6666666666666666,
              "#ed7953"
             ],
             [
              0.7777777777777778,
              "#fb9f3a"
             ],
             [
              0.8888888888888888,
              "#fdca26"
             ],
             [
              1,
              "#f0f921"
             ]
            ],
            "type": "histogram2d"
           }
          ],
          "histogram2dcontour": [
           {
            "colorbar": {
             "outlinewidth": 0,
             "ticks": ""
            },
            "colorscale": [
             [
              0,
              "#0d0887"
             ],
             [
              0.1111111111111111,
              "#46039f"
             ],
             [
              0.2222222222222222,
              "#7201a8"
             ],
             [
              0.3333333333333333,
              "#9c179e"
             ],
             [
              0.4444444444444444,
              "#bd3786"
             ],
             [
              0.5555555555555556,
              "#d8576b"
             ],
             [
              0.6666666666666666,
              "#ed7953"
             ],
             [
              0.7777777777777778,
              "#fb9f3a"
             ],
             [
              0.8888888888888888,
              "#fdca26"
             ],
             [
              1,
              "#f0f921"
             ]
            ],
            "type": "histogram2dcontour"
           }
          ],
          "mesh3d": [
           {
            "colorbar": {
             "outlinewidth": 0,
             "ticks": ""
            },
            "type": "mesh3d"
           }
          ],
          "parcoords": [
           {
            "line": {
             "colorbar": {
              "outlinewidth": 0,
              "ticks": ""
             }
            },
            "type": "parcoords"
           }
          ],
          "pie": [
           {
            "automargin": true,
            "type": "pie"
           }
          ],
          "scatter": [
           {
            "fillpattern": {
             "fillmode": "overlay",
             "size": 10,
             "solidity": 0.2
            },
            "type": "scatter"
           }
          ],
          "scatter3d": [
           {
            "line": {
             "colorbar": {
              "outlinewidth": 0,
              "ticks": ""
             }
            },
            "marker": {
             "colorbar": {
              "outlinewidth": 0,
              "ticks": ""
             }
            },
            "type": "scatter3d"
           }
          ],
          "scattercarpet": [
           {
            "marker": {
             "colorbar": {
              "outlinewidth": 0,
              "ticks": ""
             }
            },
            "type": "scattercarpet"
           }
          ],
          "scattergeo": [
           {
            "marker": {
             "colorbar": {
              "outlinewidth": 0,
              "ticks": ""
             }
            },
            "type": "scattergeo"
           }
          ],
          "scattergl": [
           {
            "marker": {
             "colorbar": {
              "outlinewidth": 0,
              "ticks": ""
             }
            },
            "type": "scattergl"
           }
          ],
          "scattermapbox": [
           {
            "marker": {
             "colorbar": {
              "outlinewidth": 0,
              "ticks": ""
             }
            },
            "type": "scattermapbox"
           }
          ],
          "scatterpolar": [
           {
            "marker": {
             "colorbar": {
              "outlinewidth": 0,
              "ticks": ""
             }
            },
            "type": "scatterpolar"
           }
          ],
          "scatterpolargl": [
           {
            "marker": {
             "colorbar": {
              "outlinewidth": 0,
              "ticks": ""
             }
            },
            "type": "scatterpolargl"
           }
          ],
          "scatterternary": [
           {
            "marker": {
             "colorbar": {
              "outlinewidth": 0,
              "ticks": ""
             }
            },
            "type": "scatterternary"
           }
          ],
          "surface": [
           {
            "colorbar": {
             "outlinewidth": 0,
             "ticks": ""
            },
            "colorscale": [
             [
              0,
              "#0d0887"
             ],
             [
              0.1111111111111111,
              "#46039f"
             ],
             [
              0.2222222222222222,
              "#7201a8"
             ],
             [
              0.3333333333333333,
              "#9c179e"
             ],
             [
              0.4444444444444444,
              "#bd3786"
             ],
             [
              0.5555555555555556,
              "#d8576b"
             ],
             [
              0.6666666666666666,
              "#ed7953"
             ],
             [
              0.7777777777777778,
              "#fb9f3a"
             ],
             [
              0.8888888888888888,
              "#fdca26"
             ],
             [
              1,
              "#f0f921"
             ]
            ],
            "type": "surface"
           }
          ],
          "table": [
           {
            "cells": {
             "fill": {
              "color": "#EBF0F8"
             },
             "line": {
              "color": "white"
             }
            },
            "header": {
             "fill": {
              "color": "#C8D4E3"
             },
             "line": {
              "color": "white"
             }
            },
            "type": "table"
           }
          ]
         },
         "layout": {
          "annotationdefaults": {
           "arrowcolor": "#2a3f5f",
           "arrowhead": 0,
           "arrowwidth": 1
          },
          "autotypenumbers": "strict",
          "coloraxis": {
           "colorbar": {
            "outlinewidth": 0,
            "ticks": ""
           }
          },
          "colorscale": {
           "diverging": [
            [
             0,
             "#8e0152"
            ],
            [
             0.1,
             "#c51b7d"
            ],
            [
             0.2,
             "#de77ae"
            ],
            [
             0.3,
             "#f1b6da"
            ],
            [
             0.4,
             "#fde0ef"
            ],
            [
             0.5,
             "#f7f7f7"
            ],
            [
             0.6,
             "#e6f5d0"
            ],
            [
             0.7,
             "#b8e186"
            ],
            [
             0.8,
             "#7fbc41"
            ],
            [
             0.9,
             "#4d9221"
            ],
            [
             1,
             "#276419"
            ]
           ],
           "sequential": [
            [
             0,
             "#0d0887"
            ],
            [
             0.1111111111111111,
             "#46039f"
            ],
            [
             0.2222222222222222,
             "#7201a8"
            ],
            [
             0.3333333333333333,
             "#9c179e"
            ],
            [
             0.4444444444444444,
             "#bd3786"
            ],
            [
             0.5555555555555556,
             "#d8576b"
            ],
            [
             0.6666666666666666,
             "#ed7953"
            ],
            [
             0.7777777777777778,
             "#fb9f3a"
            ],
            [
             0.8888888888888888,
             "#fdca26"
            ],
            [
             1,
             "#f0f921"
            ]
           ],
           "sequentialminus": [
            [
             0,
             "#0d0887"
            ],
            [
             0.1111111111111111,
             "#46039f"
            ],
            [
             0.2222222222222222,
             "#7201a8"
            ],
            [
             0.3333333333333333,
             "#9c179e"
            ],
            [
             0.4444444444444444,
             "#bd3786"
            ],
            [
             0.5555555555555556,
             "#d8576b"
            ],
            [
             0.6666666666666666,
             "#ed7953"
            ],
            [
             0.7777777777777778,
             "#fb9f3a"
            ],
            [
             0.8888888888888888,
             "#fdca26"
            ],
            [
             1,
             "#f0f921"
            ]
           ]
          },
          "colorway": [
           "#636efa",
           "#EF553B",
           "#00cc96",
           "#ab63fa",
           "#FFA15A",
           "#19d3f3",
           "#FF6692",
           "#B6E880",
           "#FF97FF",
           "#FECB52"
          ],
          "font": {
           "color": "#2a3f5f"
          },
          "geo": {
           "bgcolor": "white",
           "lakecolor": "white",
           "landcolor": "#E5ECF6",
           "showlakes": true,
           "showland": true,
           "subunitcolor": "white"
          },
          "hoverlabel": {
           "align": "left"
          },
          "hovermode": "closest",
          "mapbox": {
           "style": "light"
          },
          "paper_bgcolor": "white",
          "plot_bgcolor": "#E5ECF6",
          "polar": {
           "angularaxis": {
            "gridcolor": "white",
            "linecolor": "white",
            "ticks": ""
           },
           "bgcolor": "#E5ECF6",
           "radialaxis": {
            "gridcolor": "white",
            "linecolor": "white",
            "ticks": ""
           }
          },
          "scene": {
           "xaxis": {
            "backgroundcolor": "#E5ECF6",
            "gridcolor": "white",
            "gridwidth": 2,
            "linecolor": "white",
            "showbackground": true,
            "ticks": "",
            "zerolinecolor": "white"
           },
           "yaxis": {
            "backgroundcolor": "#E5ECF6",
            "gridcolor": "white",
            "gridwidth": 2,
            "linecolor": "white",
            "showbackground": true,
            "ticks": "",
            "zerolinecolor": "white"
           },
           "zaxis": {
            "backgroundcolor": "#E5ECF6",
            "gridcolor": "white",
            "gridwidth": 2,
            "linecolor": "white",
            "showbackground": true,
            "ticks": "",
            "zerolinecolor": "white"
           }
          },
          "shapedefaults": {
           "line": {
            "color": "#2a3f5f"
           }
          },
          "ternary": {
           "aaxis": {
            "gridcolor": "white",
            "linecolor": "white",
            "ticks": ""
           },
           "baxis": {
            "gridcolor": "white",
            "linecolor": "white",
            "ticks": ""
           },
           "bgcolor": "#E5ECF6",
           "caxis": {
            "gridcolor": "white",
            "linecolor": "white",
            "ticks": ""
           }
          },
          "title": {
           "x": 0.05
          },
          "xaxis": {
           "automargin": true,
           "gridcolor": "white",
           "linecolor": "white",
           "ticks": "",
           "title": {
            "standoff": 15
           },
           "zerolinecolor": "white",
           "zerolinewidth": 2
          },
          "yaxis": {
           "automargin": true,
           "gridcolor": "white",
           "linecolor": "white",
           "ticks": "",
           "title": {
            "standoff": 15
           },
           "zerolinecolor": "white",
           "zerolinewidth": 2
          }
         }
        },
        "title": {
         "text": "Graph 2: Profits by Product"
        },
        "updatemenus": [
         {
          "active": 0,
          "buttons": [
           {
            "args": [
             {
              "visible": [
               true,
               true,
               true,
               true,
               true
              ]
             }
            ],
            "label": "All Markets",
            "method": "update"
           },
           {
            "args": [
             {
              "visible": [
               true,
               false,
               false,
               false,
               false
              ]
             }
            ],
            "label": "Phone",
            "method": "update"
           },
           {
            "args": [
             {
              "visible": [
               false,
               true,
               false,
               false,
               false
              ]
             }
            ],
            "label": "Internet",
            "method": "update"
           },
           {
            "args": [
             {
              "visible": [
               false,
               false,
               true,
               false,
               false
              ]
             }
            ],
            "label": "Streaming",
            "method": "update"
           },
           {
            "args": [
             {
              "visible": [
               false,
               false,
               false,
               true,
               false
              ]
             }
            ],
            "label": "Online Security",
            "method": "update"
           },
           {
            "args": [
             {
              "visible": [
               false,
               false,
               false,
               false,
               true
              ]
             }
            ],
            "label": "Devices",
            "method": "update"
           }
          ],
          "direction": "left",
          "type": "buttons",
          "x": 0,
          "xanchor": "left",
          "y": 1.01,
          "yanchor": "bottom"
         }
        ],
        "width": 1000
       }
      }
     },
     "metadata": {},
     "output_type": "display_data"
    }
   ],
   "source": [
    "# creating Traces with Bar Charts for each Market, that can be later selected via the buttons menu\n",
    "for category in category_list:\n",
    "    fig.add_trace(\n",
    "        go.Bar(\n",
    "            x = df23['Date'][df23['Category']==category], # Dates and Sales are filterd regarding the markets\n",
    "            y = df23['Profits'][df23['Category']==category], \n",
    "            name = category , visible = (i==0)\n",
    "        )\n",
    "    )\n",
    "\n",
    "## the first option, displays the data for all four markets at ounce    \n",
    "args = [True] * len(category_list)   \n",
    "button = dict(label = \"All Markets\",\n",
    "                  method = \"update\",\n",
    "                  args=[{\"visible\": args}])\n",
    "buttons.append(button)\n",
    "\n",
    "## next, we create the options to diplay individual markets\n",
    "for i, category in enumerate(category_list):\n",
    "    args = [False] * len(category_list)\n",
    "    args[i] = True  # Set the current category to be visible\n",
    "    \n",
    "    buttons.append(dict(\n",
    "        label=category,\n",
    "        method=\"update\",\n",
    "        args=[{\"visible\": args}]\n",
    "    ))\n",
    "\n",
    "fig.update_layout(updatemenus=[dict(active=0,\n",
    "                                    type=\"buttons\",\n",
    "                                    direction = \"left\",\n",
    "                                    buttons=buttons,\n",
    "                                    x = 0,\n",
    "                                    y = 1.01,\n",
    "                                    xanchor = 'left',\n",
    "                                    yanchor = 'bottom'),\n",
    "                              ],\n",
    "                  title_text=\"Graph 2: Profits by Product\")\n",
    "\n",
    "fig.update_layout(\n",
    "    autosize=False,\n",
    "    width=1000,\n",
    "    height=800,)\n"
   ]
  },
  {
   "cell_type": "markdown",
   "metadata": {},
   "source": [
    "Recently, Michael learned the Balanced Scorecard concept from you. He is thinking about\n",
    "implementing it for PrimeConnect and, therefore, collected some performance measures and their\n",
    "targets in the file 'KPI.xlsx'\n",
    ". He asks you for some help regarding the visualization and interpretation of\n",
    "the balanced scorecard."
   ]
  },
  {
   "cell_type": "markdown",
   "metadata": {},
   "source": [
    "**3.** (8 points) Visualize the Balanced Scorecard. Make it interactive in a way that the market\n",
    "displayed can be selected. Add colored performance markers, whereby green indicates that\n",
    "the target is exceeded, yellow indicates that the target is met, and red indicates that the\n",
    "target is not met.\n",
    "\n",
    "Hint: For more than two cases, use if, elif, and else."
   ]
  },
  {
   "cell_type": "code",
   "execution_count": 7,
   "metadata": {},
   "outputs": [],
   "source": [
    "kpi = pd.read_excel(r'KPI.xlsx')\n"
   ]
  },
  {
   "cell_type": "code",
   "execution_count": 8,
   "metadata": {},
   "outputs": [
    {
     "data": {
      "application/vnd.jupyter.widget-view+json": {
       "model_id": "c6c0515f55df4125b07f0972e9d778b8",
       "version_major": 2,
       "version_minor": 0
      },
      "text/plain": [
       "interactive(children=(Dropdown(description='Market:', options=('West', 'East', 'South ', 'Central'), value='We…"
      ]
     },
     "metadata": {},
     "output_type": "display_data"
    },
    {
     "data": {
      "text/plain": [
       "<function __main__.balanced_scorecard(market)>"
      ]
     },
     "execution_count": 8,
     "metadata": {},
     "output_type": "execute_result"
    }
   ],
   "source": [
    "pd.options.mode.chained_assignment = None #turns off the warning due to chain assignment\n",
    "\n",
    "kpi['Target Diff'] = kpi['Target Performance']-kpi['Actual Performance']\n",
    "\n",
    "kpi['Target Reached']=\"\" \n",
    "\n",
    "\n",
    "for i in range(0,len(kpi)):\n",
    "    if kpi['Measure'][i] in ['Average network speed available (in Mbps)', 'Increase from revenue from new customer acquisition', 'Market share in telecomunication industry', 'Network availability (in percent)', 'Newly gained customers', 'Revenue Growth','Number of annual training hour per employee']:\n",
    "        if kpi['Target Diff'][i]<0:\n",
    "            kpi['Target Reached'][i]=\"yes\"\n",
    "        elif kpi['Target Diff'][i]==0:\n",
    "            kpi['Target Reached'][i]=\"met\"\n",
    "        else:\n",
    "            kpi['Target Reached'][i]=\"no\"\n",
    "    if kpi['Measure'][i] in [\"Churn rate\", 'Subscriber acquisition costs']:\n",
    "        if kpi['Target Diff'][i]>0:\n",
    "            kpi['Target Reached'][i]=\"yes\"\n",
    "        elif kpi['Target Diff'][i]==0:\n",
    "            kpi['Target Reached'][i]=\"met\"\n",
    "        else:\n",
    "            kpi['Target Reached'][i]=\"no\"\n",
    "\n",
    "def reached_target(row):    \n",
    "    fail = 'background-color: orangered;'\n",
    "    meet = 'background-color: yellow;'\n",
    "    exceed = 'background-color: lawngreen;'\n",
    "    financial = 'background-color: lightblue;'\n",
    "    customer = 'background-color: peachpuff;'\n",
    "    internal = 'background-color: lavender;'\n",
    "    learning = 'background-color: mistyrose;'\n",
    "\n",
    "    if (row['Target Reached'] == \"yes\") & (row['Perspective'] == \"Financial\") :\n",
    "        return [financial,financial, financial, financial,financial, exceed]\n",
    "    if (row['Target Reached'] == \"met\") & (row['Perspective'] == \"Financial\") :\n",
    "        return [financial,financial, financial, financial,financial, meet] \n",
    "    elif (row['Target Reached'] == \"no\") & (row['Perspective'] == \"Financial\") :\n",
    "        return [financial,financial, financial, financial,financial, fail] \n",
    "    elif (row['Target Reached'] == \"yes\") & (row['Perspective'] == \"Customer\") :\n",
    "        return [customer,customer,customer,customer,customer, exceed] \n",
    "    elif (row['Target Reached'] == \"met\") & (row['Perspective'] == \"Customer\") :\n",
    "        return [customer,customer,customer,customer,customer, meet]  \n",
    "    elif (row['Target Reached'] == \"no\") & (row['Perspective'] == \"Customer\") :\n",
    "        return [customer,customer,customer,customer,customer, fail]\n",
    "    elif (row['Target Reached'] == \"yes\") & (row['Perspective'] == \"Internal Process\") :\n",
    "        return [internal,internal,internal,internal,internal, exceed] \n",
    "    elif (row['Target Reached'] == \"met\") & (row['Perspective'] == \"Internal Process\") :\n",
    "        return [internal,internal,internal,internal,internal, meet]  \n",
    "    elif (row['Target Reached'] == \"no\") & (row['Perspective'] == \"Internal Process\") :\n",
    "        return [internal,internal,internal,internal,internal, fail] \n",
    "    elif (row['Target Reached'] == \"yes\") & (row['Perspective'] == \"Learning and Growth\") :\n",
    "        return [learning,learning,learning,learning,learning, exceed] \n",
    "    elif (row['Target Reached'] == \"met\") & (row['Perspective'] == \"Learning and Growth\") :\n",
    "        return [learning,learning,learning,learning,learning, meet]  \n",
    "    elif (row['Target Reached'] == \"no\") & (row['Perspective'] == \"Learning and Growth\") :\n",
    "        return [learning,learning,learning,learning,learning, fail] \n",
    "    \n",
    "market_list = list(kpi['Market'].unique())\n",
    "    \n",
    "drop_down = ipywidgets.Dropdown(options = market_list, \n",
    "                               description = 'Market:', \n",
    "                               disabled=False,\n",
    "                               )\n",
    "\n",
    "\n",
    "def balanced_scorecard(market):\n",
    "    kpifilter=kpi[kpi['Market']==market]\n",
    "    kpifilter=kpifilter[['Perspective', 'Strategy Pursued','Measure', 'Target Performance', 'Actual Performance', 'Target Reached']]\n",
    "    return kpifilter.style.apply(reached_target, subset=['Perspective', 'Strategy Pursued','Measure', 'Target Performance', 'Actual Performance', 'Target Reached'], axis='columns')\n",
    "\n",
    "ipywidgets.interact(balanced_scorecard, market=drop_down)"
   ]
  },
  {
   "cell_type": "markdown",
   "metadata": {},
   "source": [
    "**4.** (8 points) Could you please recommend one additional measure that could be included in\n",
    "the Balanced Scorecard? Please explain why it would be useful to include in the Balanced\n",
    "Scorecard and which perspective of the Balanced Scorecard it belongs to. Additionally, please\n",
    "describe the types of data that would be required to track each measure and evaluate\n",
    "whether this data is readily available or easily collectible for firms."
   ]
  },
  {
   "cell_type": "markdown",
   "metadata": {},
   "source": [
    "One additional measure culd be included in the Balanced Scorecard could be *\"Employee Turnover Rate\".* This would be included in the perspective of *\"Learning and Growth\"* section. We can first see that 1. Learning and Growth persepctive only has one Measure which is \"Number of annual training hour per employee\". It would be benificial to include more Measure in this Persepctive to get a clearer aspect of it. We can see that the Strategy Pursued in Learning and Growth is to Increase Employee Competence. This means that we should focus on trining employee to elevate their advancement in this company. If the Employee Turnover Rate is high, that means the company is spending hours on traning basic skills or introductive skills for new employees overtime and that is simply not a good indication if the company wants to grow steadily and keep hardworking, long-staying loyal employees. That is an indicator that should be focused.\n",
    "\n",
    "The types of data that would be required to track should be Measureable and able to Quantified. We can see that all measuremeants fit this description. Most of these measures requires numerical data. For a few measure such as revenue growth, churn rate, annual training hour per employee, these measures require Time Bound settings. The measure should have specific time bound for firms to collect as it is not always readily avaiable. For average network speed available and newly gained customers, these are measures that are readily available. "
   ]
  },
  {
   "cell_type": "markdown",
   "metadata": {},
   "source": [
    "**Exercise 2: Prediction (35 points)**"
   ]
  },
  {
   "cell_type": "markdown",
   "metadata": {},
   "source": [
    "Jennifer, who works at the controlling department of PrimeConnect, read that it takes up to 5 times\n",
    "more money to attract new customers than to keep the ones you already have. 1 Additionally,\n",
    "PrimeConnect is also working to cultivate customer loyalty and encourage continued subscription to\n",
    "its services. Therefore, she wants to predict which customers are likely to cancel their business in the\n",
    "next six months (churn). PrimeConnect can use this information to offer these customers a discount to\n",
    "incentivize them to stay at PrimeConnect.\n",
    "\n",
    "Jennifer asks you to develop a decision tree model that predicts whether customers will churn.\n",
    "Therefore, she collected some customer data in the file \"CusotmerProfile.xlsx\". \n",
    "\n",
    "Further, Jennifer prepared for each case an estimate of the customer's lifetime value (expected\n",
    "profits earned from a customer over the whole future relationship):\n",
    "- Customers who stay at PrimeConnect have a lifetime value of 1,000 USD.\n",
    "- Customers who churn have a customer lifetime value of 0 USD.\n",
    "- PrimeConnect expects an average customer lifetime value of 400 USD if they can offer\n",
    "discounts to a customer who will churn. This estimate includes the probability that the\n",
    "customer will accept the offer, the lower profit due to the discount, and the higher likelihood\n",
    "that the customer will leave in the future.\n",
    "- If PrimeConnect offers discounts to customers, who would have stayed either way, they expect\n",
    "the customer lifetime value to drop to 800 USD."
   ]
  },
  {
   "cell_type": "code",
   "execution_count": 9,
   "metadata": {},
   "outputs": [],
   "source": [
    "pc = pd.read_excel(r'CusotmerProfile.xlsx')"
   ]
  },
  {
   "cell_type": "markdown",
   "metadata": {},
   "source": [
    "**1.** (7 points) What is the dependent variable? Which items would you include as independent\n",
    "variables? Explain why.\n",
    "Hint: Not all the items are included as independent variables. Some of the variables can not be\n",
    "included because of target leakage. And some of the variables do not provide any new\n",
    "information."
   ]
  },
  {
   "cell_type": "markdown",
   "metadata": {},
   "source": [
    "- Dependent variable is **\"Chrun\"** which states whether the customer churned or not. \n",
    "\n",
    "- Independent variables **do not include Gender, Reason, TotalCharges**. Since *Gender and TotalCharges variables* does not provide any new information. More, *Gender variable* cannot be changed and *TotalCharges varaible* is connected to *Tenure and MonthlyCharges variables* which does not provide any new information. *Reason variable*  only applies to those who *Churn varaible == Yes* hence it cannot be included because of target leakage. \n",
    "The rest of variables **\"MonthlyCharges\", \"PaymentMethod\", \"OnlineSecurity\", \"Tenure\", and \"Contract\"** can be kept. "
   ]
  },
  {
   "cell_type": "markdown",
   "metadata": {},
   "source": [
    "**2.** (6 points) Start with splitting the data into a train and test sample.\n",
    "Hint: Firstly, You need to delete the customers with missing variables in the item and encode\n",
    "all categorical variables. Remember to use the parameter option random_state. You can decide\n",
    "your own test size."
   ]
  },
  {
   "cell_type": "code",
   "execution_count": 10,
   "metadata": {},
   "outputs": [
    {
     "data": {
      "text/plain": [
       "<Axes: >"
      ]
     },
     "execution_count": 10,
     "metadata": {},
     "output_type": "execute_result"
    },
    {
     "data": {
      "image/png": "[encoded data removed]",
      "text/plain": [
       "<Figure size 1440x288 with 1 Axes>"
      ]
     },
     "metadata": {
      "needs_background": "light"
     },
     "output_type": "display_data"
    }
   ],
   "source": [
    "missv = ((pc.isnull().sum()/len(pc))*100).sort_values(ascending=True)\n",
    "missv.plot(kind='bar', legend=None, figsize=(20, 4)) "
   ]
  },
  {
   "cell_type": "code",
   "execution_count": 11,
   "metadata": {},
   "outputs": [
    {
     "data": {
      "text/html": [
       "<div>\n",
       "<style scoped>\n",
       "    .dataframe tbody tr th:only-of-type {\n",
       "        vertical-align: middle;\n",
       "    }\n",
       "\n",
       "    .dataframe tbody tr th {\n",
       "        vertical-align: top;\n",
       "    }\n",
       "\n",
       "    .dataframe thead th {\n",
       "        text-align: right;\n",
       "    }\n",
       "</style>\n",
       "<table border=\"1\" class=\"dataframe\">\n",
       "  <thead>\n",
       "    <tr style=\"text-align: right;\">\n",
       "      <th></th>\n",
       "      <th>Churn</th>\n",
       "      <th>Gender</th>\n",
       "      <th>Contract</th>\n",
       "      <th>OnlineSecurity</th>\n",
       "      <th>Tenure</th>\n",
       "      <th>MonthlyCharges</th>\n",
       "      <th>TotalCharges</th>\n",
       "      <th>PaymentMethod</th>\n",
       "      <th>Reason</th>\n",
       "    </tr>\n",
       "  </thead>\n",
       "  <tbody>\n",
       "    <tr>\n",
       "      <th>0</th>\n",
       "      <td>Yes</td>\n",
       "      <td>Male</td>\n",
       "      <td>Month-to-month</td>\n",
       "      <td>Yes</td>\n",
       "      <td>2</td>\n",
       "      <td>53.85</td>\n",
       "      <td>108.15</td>\n",
       "      <td>Mailed check</td>\n",
       "      <td>Network Coverage</td>\n",
       "    </tr>\n",
       "    <tr>\n",
       "      <th>1</th>\n",
       "      <td>Yes</td>\n",
       "      <td>Female</td>\n",
       "      <td>Month-to-month</td>\n",
       "      <td>No</td>\n",
       "      <td>2</td>\n",
       "      <td>70.70</td>\n",
       "      <td>151.65</td>\n",
       "      <td>Electronic check</td>\n",
       "      <td>Customer Service</td>\n",
       "    </tr>\n",
       "    <tr>\n",
       "      <th>2</th>\n",
       "      <td>Yes</td>\n",
       "      <td>Female</td>\n",
       "      <td>Month-to-month</td>\n",
       "      <td>No</td>\n",
       "      <td>8</td>\n",
       "      <td>99.65</td>\n",
       "      <td>820.50</td>\n",
       "      <td>Electronic check</td>\n",
       "      <td>Customer Service</td>\n",
       "    </tr>\n",
       "  </tbody>\n",
       "</table>\n",
       "</div>"
      ],
      "text/plain": [
       "  Churn  Gender        Contract OnlineSecurity  Tenure  MonthlyCharges  \\\n",
       "0   Yes    Male  Month-to-month            Yes       2           53.85   \n",
       "1   Yes  Female  Month-to-month             No       2           70.70   \n",
       "2   Yes  Female  Month-to-month             No       8           99.65   \n",
       "\n",
       "   TotalCharges     PaymentMethod            Reason  \n",
       "0        108.15      Mailed check  Network Coverage  \n",
       "1        151.65  Electronic check  Customer Service  \n",
       "2        820.50  Electronic check  Customer Service  "
      ]
     },
     "execution_count": 11,
     "metadata": {},
     "output_type": "execute_result"
    }
   ],
   "source": [
    "pc = pc.dropna()\n",
    "pc.head(3)"
   ]
  },
  {
   "cell_type": "code",
   "execution_count": 12,
   "metadata": {},
   "outputs": [],
   "source": [
    "encode = LabelEncoder()\n",
    "pc['Churn'] = encode.fit_transform(pc['Churn'])\n",
    "pc['Gender'] = encode.fit_transform(pc['Gender'])\n",
    "pc['Contract'] = encode.fit_transform(pc['Contract'])\n",
    "pc['OnlineSecurity'] = encode.fit_transform(pc['OnlineSecurity'])\n",
    "pc['PaymentMethod'] = encode.fit_transform(pc['PaymentMethod'])\n",
    "pc['Reason'] = encode.fit_transform(pc['Reason'])"
   ]
  },
  {
   "cell_type": "code",
   "execution_count": 13,
   "metadata": {},
   "outputs": [],
   "source": [
    "final_variables = [\"Churn\",\"MonthlyCharges\", \"PaymentMethod\", \"OnlineSecurity\", \"Tenure\",\"Contract\"]\n",
    "pc = pc[final_variables]"
   ]
  },
  {
   "cell_type": "code",
   "execution_count": 14,
   "metadata": {},
   "outputs": [
    {
     "data": {
      "text/html": [
       "<div>\n",
       "<style scoped>\n",
       "    .dataframe tbody tr th:only-of-type {\n",
       "        vertical-align: middle;\n",
       "    }\n",
       "\n",
       "    .dataframe tbody tr th {\n",
       "        vertical-align: top;\n",
       "    }\n",
       "\n",
       "    .dataframe thead th {\n",
       "        text-align: right;\n",
       "    }\n",
       "</style>\n",
       "<table border=\"1\" class=\"dataframe\">\n",
       "  <thead>\n",
       "    <tr style=\"text-align: right;\">\n",
       "      <th></th>\n",
       "      <th>Churn</th>\n",
       "      <th>MonthlyCharges</th>\n",
       "      <th>PaymentMethod</th>\n",
       "      <th>OnlineSecurity</th>\n",
       "      <th>Tenure</th>\n",
       "      <th>Contract</th>\n",
       "    </tr>\n",
       "  </thead>\n",
       "  <tbody>\n",
       "    <tr>\n",
       "      <th>0</th>\n",
       "      <td>1</td>\n",
       "      <td>53.85</td>\n",
       "      <td>3</td>\n",
       "      <td>2</td>\n",
       "      <td>2</td>\n",
       "      <td>0</td>\n",
       "    </tr>\n",
       "    <tr>\n",
       "      <th>1</th>\n",
       "      <td>1</td>\n",
       "      <td>70.70</td>\n",
       "      <td>2</td>\n",
       "      <td>0</td>\n",
       "      <td>2</td>\n",
       "      <td>0</td>\n",
       "    </tr>\n",
       "    <tr>\n",
       "      <th>2</th>\n",
       "      <td>1</td>\n",
       "      <td>99.65</td>\n",
       "      <td>2</td>\n",
       "      <td>0</td>\n",
       "      <td>8</td>\n",
       "      <td>0</td>\n",
       "    </tr>\n",
       "  </tbody>\n",
       "</table>\n",
       "</div>"
      ],
      "text/plain": [
       "   Churn  MonthlyCharges  PaymentMethod  OnlineSecurity  Tenure  Contract\n",
       "0      1           53.85              3               2       2         0\n",
       "1      1           70.70              2               0       2         0\n",
       "2      1           99.65              2               0       8         0"
      ]
     },
     "execution_count": 14,
     "metadata": {},
     "output_type": "execute_result"
    }
   ],
   "source": [
    "pc.head(3)"
   ]
  },
  {
   "cell_type": "code",
   "execution_count": 15,
   "metadata": {},
   "outputs": [],
   "source": [
    "X = pc[[ \"MonthlyCharges\", \"PaymentMethod\", \"OnlineSecurity\", \"Tenure\",\"Contract\"]]\n",
    "y = pc['Churn']\n",
    "X_train, X_test, y_train, y_test = train_test_split(X, y, test_size=0.3,random_state=1)"
   ]
  },
  {
   "cell_type": "markdown",
   "metadata": {},
   "source": [
    "**3.** (4 points) Estimate a fully grown decision tree and show its maximum depth.\n",
    "Hint: Remember to use the parameter option random_state."
   ]
  },
  {
   "cell_type": "code",
   "execution_count": 16,
   "metadata": {},
   "outputs": [
    {
     "name": "stdout",
     "output_type": "stream",
     "text": [
      "29\n"
     ]
    }
   ],
   "source": [
    "clf = DecisionTreeClassifier(random_state=1)\n",
    "clf = clf.fit(X_train, y_train)\n",
    "print(clf.tree_.max_depth)"
   ]
  },
  {
   "cell_type": "markdown",
   "metadata": {},
   "source": [
    "**4.** (4 points) Estimate a decision tree with the Cost-Complexity Pruning Method with alpha =\n",
    "0.0015. Visualize this decision tree."
   ]
  },
  {
   "cell_type": "code",
   "execution_count": 17,
   "metadata": {},
   "outputs": [
    {
     "name": "stdout",
     "output_type": "stream",
     "text": [
      "5\n"
     ]
    }
   ],
   "source": [
    "clfccp = DecisionTreeClassifier(ccp_alpha=0.0015,random_state=1)\n",
    "clfccp = clfccp.fit(X_train, y_train)\n",
    "print(clfccp.tree_.max_depth)"
   ]
  },
  {
   "cell_type": "code",
   "execution_count": 18,
   "metadata": {},
   "outputs": [
    {
     "data": {
      "image/png": "[encoded data removed]",
      "text/plain": [
       "<Figure size 5040x1080 with 1 Axes>"
      ]
     },
     "metadata": {
      "needs_background": "light"
     },
     "output_type": "display_data"
    }
   ],
   "source": [
    "feature_names = X_train.columns\n",
    "feature_names\n",
    "\n",
    "fig = plt.figure(figsize=(70,15))\n",
    "_ = plot_tree(clfccp,\n",
    "                  feature_names=feature_names,\n",
    "                  class_names={0:'Churned:No', 1:'Churned:Yes'},\n",
    "                  filled=True,\n",
    "                  fontsize=10)"
   ]
  },
  {
   "cell_type": "markdown",
   "metadata": {},
   "source": [
    "**5.** (4 points) How would you classify a customer with the following characteristics according to\n",
    "the cost-complexity pruned decision tree? Explain your answer.\n",
    "\n",
    "- Gender: Female\n",
    "- Contract: Month-to-month\n",
    "- OnlineSecurity:Yes  \n",
    "- Tenure:4 \n",
    "- MonthlyCharges:65 \n",
    "- TotalCharges:260 \n",
    "- PaymentMethod:Mailed check\n",
    "- Reason: NotApplicable\n"
   ]
  },
  {
   "cell_type": "markdown",
   "metadata": {},
   "source": [
    "As we can see we get the result of \"array([0])\" which represents the classification of Not Churned. We used the given and removed those not considered in our tree. Then we altered the categories into encoded representation. \n",
    "\n",
    "If we read the graph manually, we start from Root Node, Contract is encoded as 0. Since first split is on Contract <= 0.5, we move left to child node which is MonthlyCharges <= 69.525. The MonthlyCharges is 65, thus we move left to child node which is Tunure <=5.5. Our Tenure is 4, thus we move left to child node which is OnlineSecurity <=0.5. We have 2 which is larger than 0.5, thus we move right to classification node: Not Churned with gini of 0.407. "
   ]
  },
  {
   "cell_type": "code",
   "execution_count": 19,
   "metadata": {},
   "outputs": [
    {
     "data": {
      "text/plain": [
       "array([0])"
      ]
     },
     "execution_count": 19,
     "metadata": {},
     "output_type": "execute_result"
    }
   ],
   "source": [
    "customer = {\n",
    "    'MonthlyCharges': 65,\n",
    "    'PaymentMethod': 3,\n",
    "    'OnlineSecurity': 2,\n",
    "    'Tenure': 4,\n",
    "    'Contract': 0\n",
    "}\n",
    "\n",
    "# Convert the customer data to a DataFrame\n",
    "customer_df = pd.DataFrame([customer])\n",
    "\n",
    "result = clf.predict(customer_df)\n",
    "result"
   ]
  },
  {
   "cell_type": "markdown",
   "metadata": {},
   "source": [
    "**6.** (4 points) Choose one of the evaluation metrics (accuracy, precision, recall, and F1 score) and\n",
    "compare the pruned decision tree with the fully grown one based on these metrics."
   ]
  },
  {
   "cell_type": "markdown",
   "metadata": {},
   "source": [
    "The evalution metrics used here is **Recall**. The reason for this is due to the key in this question was that *predict which customers are likely to cancel their business* and *working to cultivate customer loyalty*. So the focus here is to know the probability that **a customer classified as not churned actually is not churned.** \n",
    "\n",
    "So our goal here is to minimize the probability that a churned customer is classified as a non churned customer.\n",
    "\n",
    "We see below that \n",
    "- the precision with full grown Decision Tree its score is stated with *recall_full when = zero* which is 0.8253. \n",
    "- the precision with pruned Decision Tree its score is stated with *recall_ccp when = zero* which is 0.9009.\n",
    "\n",
    "The Cost-Complexity Pruning Tree presents a bit better with higher Recall Score when it comes to the Probability of a acutally not churned customer classified as a non-churned."
   ]
  },
  {
   "cell_type": "code",
   "execution_count": 20,
   "metadata": {},
   "outputs": [
    {
     "name": "stdout",
     "output_type": "stream",
     "text": [
      "recall_full when = zero 0.8253968253968254\n",
      "recall_ccp when = zero 0.900952380952381\n"
     ]
    }
   ],
   "source": [
    "recall_full = clf.predict(X_test)\n",
    "recall_ccp = clfccp.predict(X_test)\n",
    "\n",
    "#rec_full = recall_score(y_test, recall_full)\n",
    "#rec_ccp = recall_score(y_test, recall_ccp)\n",
    "rec_full0 = recall_score(y_test, recall_full,pos_label=0)\n",
    "rec_ccp0 = recall_score(y_test, recall_ccp,pos_label=0)\n",
    "\n",
    "print('recall_full when = zero',  rec_full0)\n",
    "print('recall_ccp when = zero', rec_ccp0)\n"
   ]
  },
  {
   "cell_type": "markdown",
   "metadata": {},
   "source": [
    "**7.** (6 points) According to the fully grown decision trees, which features are most important for\n",
    "explaining membership renewal?"
   ]
  },
  {
   "cell_type": "markdown",
   "metadata": {},
   "source": [
    "As we can see from the below code and illustration, **MonthlyCharges** and **Tenure** are most imporatant for explaining mebership renewal. Third, comes in **Contract**. In so, **MonthlyCharges** is most important out of all where it exceed 0.40."
   ]
  },
  {
   "cell_type": "code",
   "execution_count": 21,
   "metadata": {},
   "outputs": [
    {
     "name": "stdout",
     "output_type": "stream",
     "text": [
      "Axes(0.125,0.125;0.775x0.755)\n",
      "                       0\n",
      "MonthlyCharges  0.469493\n",
      "PaymentMethod   0.070161\n",
      "OnlineSecurity  0.034574\n",
      "Tenure          0.246728\n",
      "Contract        0.179043\n"
     ]
    },
    {
     "data": {
      "image/png": "[encoded data removed]",
      "text/plain": [
       "<Figure size 432x288 with 1 Axes>"
      ]
     },
     "metadata": {
      "needs_background": "light"
     },
     "output_type": "display_data"
    }
   ],
   "source": [
    "feature_importance = pd.DataFrame(clf.feature_importances_, index = feature_names)\n",
    "print(feature_importance.plot(kind='bar', legend=None))\n",
    "print(feature_importance)"
   ]
  },
  {
   "cell_type": "markdown",
   "metadata": {},
   "source": [
    "**Exercise 3: Cost Estimation (35 points)**"
   ]
  },
  {
   "cell_type": "markdown",
   "metadata": {},
   "source": [
    "Susan is the head of the operating department at PrimeConnect. The customer service department\n",
    "provides assistance to customers before, during, and after a purchase. This includes assistance in\n",
    "\n",
    "1. Questions about PrimeConnect products and services\n",
    "2. Making contracts and purchases\n",
    "3. Troubleshooting\n",
    "4. Maintenance\n",
    "5. Bills and payments\n",
    "6. Cancellation of contracts\n",
    "\n",
    "The customer service departments are organized autonomously for each state. This implies that each\n",
    "department is responsible for its office spaces, equipment, hiring, and training. In addition, the\n",
    "customer service departments are also autonomous in how they provide assistance. They have their\n",
    "own websites where they are responsible for what information is presented and how this information\n",
    "is presented. Further, they can decide which communication channels they offer. Examples of\n",
    "communication channels are phone, e-mail, chat, and social media.\n",
    "The autonomy and flexibility of the customer service departments allow them to adapt to the\n",
    "particular preferences and needs of the customers in each state. This is one of the reasons why\n",
    "PrimeConnect's customer service is so excellent. However, the pressure from the increased\n",
    "competition makes it necessary for PrimeConnect to seek ways to decrease its costs. As the customer\n",
    "service departments cause high costs and there is quite some variation in the departments' costs in\n",
    "different states, you were asked to support Susan in finding ways to decrease the costs in the customer\n",
    "service departments.\n",
    "Susan collected some data about the total costs of each customer service department and potential\n",
    "cost drivers. You can find the data in 'Cost.xlsx'."
   ]
  },
  {
   "cell_type": "code",
   "execution_count": 22,
   "metadata": {},
   "outputs": [
    {
     "data": {
      "text/html": [
       "<div>\n",
       "<style scoped>\n",
       "    .dataframe tbody tr th:only-of-type {\n",
       "        vertical-align: middle;\n",
       "    }\n",
       "\n",
       "    .dataframe tbody tr th {\n",
       "        vertical-align: top;\n",
       "    }\n",
       "\n",
       "    .dataframe thead th {\n",
       "        text-align: right;\n",
       "    }\n",
       "</style>\n",
       "<table border=\"1\" class=\"dataframe\">\n",
       "  <thead>\n",
       "    <tr style=\"text-align: right;\">\n",
       "      <th></th>\n",
       "      <th>State</th>\n",
       "      <th>Time</th>\n",
       "      <th>NumbRequests</th>\n",
       "      <th>ComChannels</th>\n",
       "      <th>NumbCustomers</th>\n",
       "      <th>DeptCosts</th>\n",
       "    </tr>\n",
       "  </thead>\n",
       "  <tbody>\n",
       "    <tr>\n",
       "      <th>0</th>\n",
       "      <td>Alabama</td>\n",
       "      <td>3410</td>\n",
       "      <td>80</td>\n",
       "      <td>2</td>\n",
       "      <td>15838</td>\n",
       "      <td>52744.34</td>\n",
       "    </tr>\n",
       "    <tr>\n",
       "      <th>1</th>\n",
       "      <td>Alaska</td>\n",
       "      <td>2979</td>\n",
       "      <td>47</td>\n",
       "      <td>1</td>\n",
       "      <td>11107</td>\n",
       "      <td>46044.03</td>\n",
       "    </tr>\n",
       "    <tr>\n",
       "      <th>2</th>\n",
       "      <td>Arizona</td>\n",
       "      <td>5099</td>\n",
       "      <td>66</td>\n",
       "      <td>4</td>\n",
       "      <td>23717</td>\n",
       "      <td>68237.74</td>\n",
       "    </tr>\n",
       "  </tbody>\n",
       "</table>\n",
       "</div>"
      ],
      "text/plain": [
       "     State  Time  NumbRequests  ComChannels  NumbCustomers  DeptCosts\n",
       "0  Alabama  3410            80            2          15838   52744.34\n",
       "1   Alaska  2979            47            1          11107   46044.03\n",
       "2  Arizona  5099            66            4          23717   68237.74"
      ]
     },
     "execution_count": 22,
     "metadata": {},
     "output_type": "execute_result"
    }
   ],
   "source": [
    "ce = pd.read_excel(r'Cost.xlsx')\n",
    "ce.head(3)"
   ]
  },
  {
   "cell_type": "markdown",
   "metadata": {},
   "source": [
    "**1.** (5 points) Plot the customer service department costs vs. each cost driver. Analyze the data\n",
    "for potential problems."
   ]
  },
  {
   "cell_type": "code",
   "execution_count": 23,
   "metadata": {},
   "outputs": [
    {
     "data": {
      "application/vnd.plotly.v1+json": {
       "config": {
        "plotlyServerURL": "https://plot.ly"
       },
       "data": [
        {
         "mode": "markers",
         "text": [
          "Alabama",
          "Alaska",
          "Arizona",
          "Arkansas",
          "California",
          "Colorado",
          "Connecticut",
          "Delaware",
          "Florida",
          "Georgia",
          "Hawaii",
          "Idaho",
          "Illinois",
          "Indiana",
          "Iowa",
          "Kansas",
          "Kentucky",
          "Louisiana",
          "Maine",
          "Maryland",
          "Massachusetts",
          "Michigan",
          "Minnesota",
          "Mississippi",
          "Missouri",
          "Montana",
          "Nebraska",
          "Nevada",
          "New Hampshire",
          "New Jersey",
          "New Mexico",
          "New York",
          "North Carolina",
          "North Dakota",
          "Ohio",
          "Oklahoma",
          "Oregon",
          "Pennsylvania",
          "Rhode Island",
          "South Carolina",
          "South Dakota",
          "Tennessee",
          "Texas",
          "Utah",
          "Vermont",
          "Virginia",
          "Washington",
          "West Virginia",
          "Wisconsin",
          "Wyoming"
         ],
         "type": "scatter",
         "x": [
          3410,
          2979,
          5099,
          2539,
          2100,
          3989,
          4011,
          2802,
          5831,
          5050,
          3069,
          3670,
          4578,
          3573,
          4625,
          4755,
          2936,
          3147,
          4676,
          2708,
          5574,
          5478,
          5241,
          4957,
          3053,
          2738,
          5819,
          5463,
          5302,
          3991,
          3317,
          3984,
          4790,
          4244,
          3476,
          6987,
          4513,
          4588,
          3709,
          4450,
          3910,
          3589,
          3591,
          4202,
          5214,
          7519,
          3241,
          5163,
          2548,
          7180
         ],
         "xaxis": "x",
         "y": [
          52744.34,
          46044.03,
          68237.74,
          46101.4,
          31234.28,
          61767.55,
          56576.3,
          47328.32,
          72757.66,
          64617.38,
          46455.63,
          49076.93,
          63717.76,
          48046.47,
          57655.51,
          63870.29,
          47340.03,
          50534.66,
          60775.42,
          48289.23,
          69935.01,
          66982.47,
          68530.72,
          65639.21,
          52450.95,
          44743.51,
          69769.72,
          70352.21,
          67469.9,
          57915.29,
          51931.01,
          60450.69,
          60411.07,
          60785.7,
          55542.76,
          85673.58,
          63373.66,
          58449.38,
          56412.17,
          55125.49,
          51917,
          51812.89,
          49352.4,
          61460.01,
          66045.53,
          93875.29,
          47903.22,
          62644.6,
          39100.52,
          81815.22
         ],
         "yaxis": "y"
        },
        {
         "mode": "markers",
         "text": [
          "Alabama",
          "Alaska",
          "Arizona",
          "Arkansas",
          "California",
          "Colorado",
          "Connecticut",
          "Delaware",
          "Florida",
          "Georgia",
          "Hawaii",
          "Idaho",
          "Illinois",
          "Indiana",
          "Iowa",
          "Kansas",
          "Kentucky",
          "Louisiana",
          "Maine",
          "Maryland",
          "Massachusetts",
          "Michigan",
          "Minnesota",
          "Mississippi",
          "Missouri",
          "Montana",
          "Nebraska",
          "Nevada",
          "New Hampshire",
          "New Jersey",
          "New Mexico",
          "New York",
          "North Carolina",
          "North Dakota",
          "Ohio",
          "Oklahoma",
          "Oregon",
          "Pennsylvania",
          "Rhode Island",
          "South Carolina",
          "South Dakota",
          "Tennessee",
          "Texas",
          "Utah",
          "Vermont",
          "Virginia",
          "Washington",
          "West Virginia",
          "Wisconsin",
          "Wyoming"
         ],
         "type": "scatter",
         "x": [
          80,
          47,
          66,
          74,
          52,
          84,
          89,
          126,
          6,
          25,
          39,
          22,
          46,
          37,
          38,
          84,
          56,
          70,
          60,
          53,
          43,
          65,
          61,
          38,
          96,
          39,
          48,
          82,
          28,
          65,
          51,
          87,
          39,
          69,
          73,
          77,
          93,
          62,
          43,
          56,
          40,
          66,
          63,
          73,
          50,
          55,
          89,
          44,
          90,
          40
         ],
         "xaxis": "x2",
         "y": [
          52744.34,
          46044.03,
          68237.74,
          46101.4,
          31234.28,
          61767.55,
          56576.3,
          47328.32,
          72757.66,
          64617.38,
          46455.63,
          49076.93,
          63717.76,
          48046.47,
          57655.51,
          63870.29,
          47340.03,
          50534.66,
          60775.42,
          48289.23,
          69935.01,
          66982.47,
          68530.72,
          65639.21,
          52450.95,
          44743.51,
          69769.72,
          70352.21,
          67469.9,
          57915.29,
          51931.01,
          60450.69,
          60411.07,
          60785.7,
          55542.76,
          85673.58,
          63373.66,
          58449.38,
          56412.17,
          55125.49,
          51917,
          51812.89,
          49352.4,
          61460.01,
          66045.53,
          93875.29,
          47903.22,
          62644.6,
          39100.52,
          81815.22
         ],
         "yaxis": "y2"
        },
        {
         "mode": "markers",
         "text": [
          "Alabama",
          "Alaska",
          "Arizona",
          "Arkansas",
          "California",
          "Colorado",
          "Connecticut",
          "Delaware",
          "Florida",
          "Georgia",
          "Hawaii",
          "Idaho",
          "Illinois",
          "Indiana",
          "Iowa",
          "Kansas",
          "Kentucky",
          "Louisiana",
          "Maine",
          "Maryland",
          "Massachusetts",
          "Michigan",
          "Minnesota",
          "Mississippi",
          "Missouri",
          "Montana",
          "Nebraska",
          "Nevada",
          "New Hampshire",
          "New Jersey",
          "New Mexico",
          "New York",
          "North Carolina",
          "North Dakota",
          "Ohio",
          "Oklahoma",
          "Oregon",
          "Pennsylvania",
          "Rhode Island",
          "South Carolina",
          "South Dakota",
          "Tennessee",
          "Texas",
          "Utah",
          "Vermont",
          "Virginia",
          "Washington",
          "West Virginia",
          "Wisconsin",
          "Wyoming"
         ],
         "type": "scatter",
         "x": [
          2,
          1,
          4,
          7,
          4,
          10,
          1,
          1,
          6,
          7,
          6,
          12,
          4,
          1,
          7,
          3,
          3,
          7,
          8,
          5,
          2,
          5,
          4,
          4,
          6,
          8,
          6,
          1,
          4,
          2,
          7,
          3,
          7,
          8,
          10,
          1,
          5,
          6,
          3,
          2,
          4,
          4,
          1,
          7,
          7,
          10,
          1,
          1,
          2,
          5
         ],
         "xaxis": "x3",
         "y": [
          52744.34,
          46044.03,
          68237.74,
          46101.4,
          31234.28,
          61767.55,
          56576.3,
          47328.32,
          72757.66,
          64617.38,
          46455.63,
          49076.93,
          63717.76,
          48046.47,
          57655.51,
          63870.29,
          47340.03,
          50534.66,
          60775.42,
          48289.23,
          69935.01,
          66982.47,
          68530.72,
          65639.21,
          52450.95,
          44743.51,
          69769.72,
          70352.21,
          67469.9,
          57915.29,
          51931.01,
          60450.69,
          60411.07,
          60785.7,
          55542.76,
          85673.58,
          63373.66,
          58449.38,
          56412.17,
          55125.49,
          51917,
          51812.89,
          49352.4,
          61460.01,
          66045.53,
          93875.29,
          47903.22,
          62644.6,
          39100.52,
          81815.22
         ],
         "yaxis": "y3"
        },
        {
         "mode": "markers",
         "text": [
          "Alabama",
          "Alaska",
          "Arizona",
          "Arkansas",
          "California",
          "Colorado",
          "Connecticut",
          "Delaware",
          "Florida",
          "Georgia",
          "Hawaii",
          "Idaho",
          "Illinois",
          "Indiana",
          "Iowa",
          "Kansas",
          "Kentucky",
          "Louisiana",
          "Maine",
          "Maryland",
          "Massachusetts",
          "Michigan",
          "Minnesota",
          "Mississippi",
          "Missouri",
          "Montana",
          "Nebraska",
          "Nevada",
          "New Hampshire",
          "New Jersey",
          "New Mexico",
          "New York",
          "North Carolina",
          "North Dakota",
          "Ohio",
          "Oklahoma",
          "Oregon",
          "Pennsylvania",
          "Rhode Island",
          "South Carolina",
          "South Dakota",
          "Tennessee",
          "Texas",
          "Utah",
          "Vermont",
          "Virginia",
          "Washington",
          "West Virginia",
          "Wisconsin",
          "Wyoming"
         ],
         "type": "scatter",
         "x": [
          15838,
          11107,
          23717,
          31678,
          32298,
          21797,
          35628,
          29030,
          20430,
          18264,
          18596,
          19987,
          24275,
          21145,
          23623,
          28388,
          29205,
          30565,
          28823,
          22896,
          23150,
          27080,
          26316,
          23731,
          10637,
          2272,
          26448,
          30529,
          27358,
          24761,
          17077,
          20156,
          14859,
          10175,
          25846,
          33517,
          23818,
          16943,
          27717,
          30295,
          23117,
          38801,
          13669,
          27612,
          22643,
          19524,
          40718,
          27117,
          11870,
          11863
         ],
         "xaxis": "x4",
         "y": [
          52744.34,
          46044.03,
          68237.74,
          46101.4,
          31234.28,
          61767.55,
          56576.3,
          47328.32,
          72757.66,
          64617.38,
          46455.63,
          49076.93,
          63717.76,
          48046.47,
          57655.51,
          63870.29,
          47340.03,
          50534.66,
          60775.42,
          48289.23,
          69935.01,
          66982.47,
          68530.72,
          65639.21,
          52450.95,
          44743.51,
          69769.72,
          70352.21,
          67469.9,
          57915.29,
          51931.01,
          60450.69,
          60411.07,
          60785.7,
          55542.76,
          85673.58,
          63373.66,
          58449.38,
          56412.17,
          55125.49,
          51917,
          51812.89,
          49352.4,
          61460.01,
          66045.53,
          93875.29,
          47903.22,
          62644.6,
          39100.52,
          81815.22
         ],
         "yaxis": "y4"
        }
       ],
       "layout": {
        "height": 800,
        "showlegend": false,
        "template": {
         "data": {
          "bar": [
           {
            "error_x": {
             "color": "#2a3f5f"
            },
            "error_y": {
             "color": "#2a3f5f"
            },
            "marker": {
             "line": {
              "color": "#E5ECF6",
              "width": 0.5
             },
             "pattern": {
              "fillmode": "overlay",
              "size": 10,
              "solidity": 0.2
             }
            },
            "type": "bar"
           }
          ],
          "barpolar": [
           {
            "marker": {
             "line": {
              "color": "#E5ECF6",
              "width": 0.5
             },
             "pattern": {
              "fillmode": "overlay",
              "size": 10,
              "solidity": 0.2
             }
            },
            "type": "barpolar"
           }
          ],
          "carpet": [
           {
            "aaxis": {
             "endlinecolor": "#2a3f5f",
             "gridcolor": "white",
             "linecolor": "white",
             "minorgridcolor": "white",
             "startlinecolor": "#2a3f5f"
            },
            "baxis": {
             "endlinecolor": "#2a3f5f",
             "gridcolor": "white",
             "linecolor": "white",
             "minorgridcolor": "white",
             "startlinecolor": "#2a3f5f"
            },
            "type": "carpet"
           }
          ],
          "choropleth": [
           {
            "colorbar": {
             "outlinewidth": 0,
             "ticks": ""
            },
            "type": "choropleth"
           }
          ],
          "contour": [
           {
            "colorbar": {
             "outlinewidth": 0,
             "ticks": ""
            },
            "colorscale": [
             [
              0,
              "#0d0887"
             ],
             [
              0.1111111111111111,
              "#46039f"
             ],
             [
              0.2222222222222222,
              "#7201a8"
             ],
             [
              0.3333333333333333,
              "#9c179e"
             ],
             [
              0.4444444444444444,
              "#bd3786"
             ],
             [
              0.5555555555555556,
              "#d8576b"
             ],
             [
              0.6666666666666666,
              "#ed7953"
             ],
             [
              0.7777777777777778,
              "#fb9f3a"
             ],
             [
              0.8888888888888888,
              "#fdca26"
             ],
             [
              1,
              "#f0f921"
             ]
            ],
            "type": "contour"
           }
          ],
          "contourcarpet": [
           {
            "colorbar": {
             "outlinewidth": 0,
             "ticks": ""
            },
            "type": "contourcarpet"
           }
          ],
          "heatmap": [
           {
            "colorbar": {
             "outlinewidth": 0,
             "ticks": ""
            },
            "colorscale": [
             [
              0,
              "#0d0887"
             ],
             [
              0.1111111111111111,
              "#46039f"
             ],
             [
              0.2222222222222222,
              "#7201a8"
             ],
             [
              0.3333333333333333,
              "#9c179e"
             ],
             [
              0.4444444444444444,
              "#bd3786"
             ],
             [
              0.5555555555555556,
              "#d8576b"
             ],
             [
              0.6666666666666666,
              "#ed7953"
             ],
             [
              0.7777777777777778,
              "#fb9f3a"
             ],
             [
              0.8888888888888888,
              "#fdca26"
             ],
             [
              1,
              "#f0f921"
             ]
            ],
            "type": "heatmap"
           }
          ],
          "heatmapgl": [
           {
            "colorbar": {
             "outlinewidth": 0,
             "ticks": ""
            },
            "colorscale": [
             [
              0,
              "#0d0887"
             ],
             [
              0.1111111111111111,
              "#46039f"
             ],
             [
              0.2222222222222222,
              "#7201a8"
             ],
             [
              0.3333333333333333,
              "#9c179e"
             ],
             [
              0.4444444444444444,
              "#bd3786"
             ],
             [
              0.5555555555555556,
              "#d8576b"
             ],
             [
              0.6666666666666666,
              "#ed7953"
             ],
             [
              0.7777777777777778,
              "#fb9f3a"
             ],
             [
              0.8888888888888888,
              "#fdca26"
             ],
             [
              1,
              "#f0f921"
             ]
            ],
            "type": "heatmapgl"
           }
          ],
          "histogram": [
           {
            "marker": {
             "pattern": {
              "fillmode": "overlay",
              "size": 10,
              "solidity": 0.2
             }
            },
            "type": "histogram"
           }
          ],
          "histogram2d": [
           {
            "colorbar": {
             "outlinewidth": 0,
             "ticks": ""
            },
            "colorscale": [
             [
              0,
              "#0d0887"
             ],
             [
              0.1111111111111111,
              "#46039f"
             ],
             [
              0.2222222222222222,
              "#7201a8"
             ],
             [
              0.3333333333333333,
              "#9c179e"
             ],
             [
              0.4444444444444444,
              "#bd3786"
             ],
             [
              0.5555555555555556,
              "#d8576b"
             ],
             [
              0.6666666666666666,
              "#ed7953"
             ],
             [
              0.7777777777777778,
              "#fb9f3a"
             ],
             [
              0.8888888888888888,
              "#fdca26"
             ],
             [
              1,
              "#f0f921"
             ]
            ],
            "type": "histogram2d"
           }
          ],
          "histogram2dcontour": [
           {
            "colorbar": {
             "outlinewidth": 0,
             "ticks": ""
            },
            "colorscale": [
             [
              0,
              "#0d0887"
             ],
             [
              0.1111111111111111,
              "#46039f"
             ],
             [
              0.2222222222222222,
              "#7201a8"
             ],
             [
              0.3333333333333333,
              "#9c179e"
             ],
             [
              0.4444444444444444,
              "#bd3786"
             ],
             [
              0.5555555555555556,
              "#d8576b"
             ],
             [
              0.6666666666666666,
              "#ed7953"
             ],
             [
              0.7777777777777778,
              "#fb9f3a"
             ],
             [
              0.8888888888888888,
              "#fdca26"
             ],
             [
              1,
              "#f0f921"
             ]
            ],
            "type": "histogram2dcontour"
           }
          ],
          "mesh3d": [
           {
            "colorbar": {
             "outlinewidth": 0,
             "ticks": ""
            },
            "type": "mesh3d"
           }
          ],
          "parcoords": [
           {
            "line": {
             "colorbar": {
              "outlinewidth": 0,
              "ticks": ""
             }
            },
            "type": "parcoords"
           }
          ],
          "pie": [
           {
            "automargin": true,
            "type": "pie"
           }
          ],
          "scatter": [
           {
            "fillpattern": {
             "fillmode": "overlay",
             "size": 10,
             "solidity": 0.2
            },
            "type": "scatter"
           }
          ],
          "scatter3d": [
           {
            "line": {
             "colorbar": {
              "outlinewidth": 0,
              "ticks": ""
             }
            },
            "marker": {
             "colorbar": {
              "outlinewidth": 0,
              "ticks": ""
             }
            },
            "type": "scatter3d"
           }
          ],
          "scattercarpet": [
           {
            "marker": {
             "colorbar": {
              "outlinewidth": 0,
              "ticks": ""
             }
            },
            "type": "scattercarpet"
           }
          ],
          "scattergeo": [
           {
            "marker": {
             "colorbar": {
              "outlinewidth": 0,
              "ticks": ""
             }
            },
            "type": "scattergeo"
           }
          ],
          "scattergl": [
           {
            "marker": {
             "colorbar": {
              "outlinewidth": 0,
              "ticks": ""
             }
            },
            "type": "scattergl"
           }
          ],
          "scattermapbox": [
           {
            "marker": {
             "colorbar": {
              "outlinewidth": 0,
              "ticks": ""
             }
            },
            "type": "scattermapbox"
           }
          ],
          "scatterpolar": [
           {
            "marker": {
             "colorbar": {
              "outlinewidth": 0,
              "ticks": ""
             }
            },
            "type": "scatterpolar"
           }
          ],
          "scatterpolargl": [
           {
            "marker": {
             "colorbar": {
              "outlinewidth": 0,
              "ticks": ""
             }
            },
            "type": "scatterpolargl"
           }
          ],
          "scatterternary": [
           {
            "marker": {
             "colorbar": {
              "outlinewidth": 0,
              "ticks": ""
             }
            },
            "type": "scatterternary"
           }
          ],
          "surface": [
           {
            "colorbar": {
             "outlinewidth": 0,
             "ticks": ""
            },
            "colorscale": [
             [
              0,
              "#0d0887"
             ],
             [
              0.1111111111111111,
              "#46039f"
             ],
             [
              0.2222222222222222,
              "#7201a8"
             ],
             [
              0.3333333333333333,
              "#9c179e"
             ],
             [
              0.4444444444444444,
              "#bd3786"
             ],
             [
              0.5555555555555556,
              "#d8576b"
             ],
             [
              0.6666666666666666,
              "#ed7953"
             ],
             [
              0.7777777777777778,
              "#fb9f3a"
             ],
             [
              0.8888888888888888,
              "#fdca26"
             ],
             [
              1,
              "#f0f921"
             ]
            ],
            "type": "surface"
           }
          ],
          "table": [
           {
            "cells": {
             "fill": {
              "color": "#EBF0F8"
             },
             "line": {
              "color": "white"
             }
            },
            "header": {
             "fill": {
              "color": "#C8D4E3"
             },
             "line": {
              "color": "white"
             }
            },
            "type": "table"
           }
          ]
         },
         "layout": {
          "annotationdefaults": {
           "arrowcolor": "#2a3f5f",
           "arrowhead": 0,
           "arrowwidth": 1
          },
          "autotypenumbers": "strict",
          "coloraxis": {
           "colorbar": {
            "outlinewidth": 0,
            "ticks": ""
           }
          },
          "colorscale": {
           "diverging": [
            [
             0,
             "#8e0152"
            ],
            [
             0.1,
             "#c51b7d"
            ],
            [
             0.2,
             "#de77ae"
            ],
            [
             0.3,
             "#f1b6da"
            ],
            [
             0.4,
             "#fde0ef"
            ],
            [
             0.5,
             "#f7f7f7"
            ],
            [
             0.6,
             "#e6f5d0"
            ],
            [
             0.7,
             "#b8e186"
            ],
            [
             0.8,
             "#7fbc41"
            ],
            [
             0.9,
             "#4d9221"
            ],
            [
             1,
             "#276419"
            ]
           ],
           "sequential": [
            [
             0,
             "#0d0887"
            ],
            [
             0.1111111111111111,
             "#46039f"
            ],
            [
             0.2222222222222222,
             "#7201a8"
            ],
            [
             0.3333333333333333,
             "#9c179e"
            ],
            [
             0.4444444444444444,
             "#bd3786"
            ],
            [
             0.5555555555555556,
             "#d8576b"
            ],
            [
             0.6666666666666666,
             "#ed7953"
            ],
            [
             0.7777777777777778,
             "#fb9f3a"
            ],
            [
             0.8888888888888888,
             "#fdca26"
            ],
            [
             1,
             "#f0f921"
            ]
           ],
           "sequentialminus": [
            [
             0,
             "#0d0887"
            ],
            [
             0.1111111111111111,
             "#46039f"
            ],
            [
             0.2222222222222222,
             "#7201a8"
            ],
            [
             0.3333333333333333,
             "#9c179e"
            ],
            [
             0.4444444444444444,
             "#bd3786"
            ],
            [
             0.5555555555555556,
             "#d8576b"
            ],
            [
             0.6666666666666666,
             "#ed7953"
            ],
            [
             0.7777777777777778,
             "#fb9f3a"
            ],
            [
             0.8888888888888888,
             "#fdca26"
            ],
            [
             1,
             "#f0f921"
            ]
           ]
          },
          "colorway": [
           "#636efa",
           "#EF553B",
           "#00cc96",
           "#ab63fa",
           "#FFA15A",
           "#19d3f3",
           "#FF6692",
           "#B6E880",
           "#FF97FF",
           "#FECB52"
          ],
          "font": {
           "color": "#2a3f5f"
          },
          "geo": {
           "bgcolor": "white",
           "lakecolor": "white",
           "landcolor": "#E5ECF6",
           "showlakes": true,
           "showland": true,
           "subunitcolor": "white"
          },
          "hoverlabel": {
           "align": "left"
          },
          "hovermode": "closest",
          "mapbox": {
           "style": "light"
          },
          "paper_bgcolor": "white",
          "plot_bgcolor": "#E5ECF6",
          "polar": {
           "angularaxis": {
            "gridcolor": "white",
            "linecolor": "white",
            "ticks": ""
           },
           "bgcolor": "#E5ECF6",
           "radialaxis": {
            "gridcolor": "white",
            "linecolor": "white",
            "ticks": ""
           }
          },
          "scene": {
           "xaxis": {
            "backgroundcolor": "#E5ECF6",
            "gridcolor": "white",
            "gridwidth": 2,
            "linecolor": "white",
            "showbackground": true,
            "ticks": "",
            "zerolinecolor": "white"
           },
           "yaxis": {
            "backgroundcolor": "#E5ECF6",
            "gridcolor": "white",
            "gridwidth": 2,
            "linecolor": "white",
            "showbackground": true,
            "ticks": "",
            "zerolinecolor": "white"
           },
           "zaxis": {
            "backgroundcolor": "#E5ECF6",
            "gridcolor": "white",
            "gridwidth": 2,
            "linecolor": "white",
            "showbackground": true,
            "ticks": "",
            "zerolinecolor": "white"
           }
          },
          "shapedefaults": {
           "line": {
            "color": "#2a3f5f"
           }
          },
          "ternary": {
           "aaxis": {
            "gridcolor": "white",
            "linecolor": "white",
            "ticks": ""
           },
           "baxis": {
            "gridcolor": "white",
            "linecolor": "white",
            "ticks": ""
           },
           "bgcolor": "#E5ECF6",
           "caxis": {
            "gridcolor": "white",
            "linecolor": "white",
            "ticks": ""
           }
          },
          "title": {
           "x": 0.05
          },
          "xaxis": {
           "automargin": true,
           "gridcolor": "white",
           "linecolor": "white",
           "ticks": "",
           "title": {
            "standoff": 15
           },
           "zerolinecolor": "white",
           "zerolinewidth": 2
          },
          "yaxis": {
           "automargin": true,
           "gridcolor": "white",
           "linecolor": "white",
           "ticks": "",
           "title": {
            "standoff": 15
           },
           "zerolinecolor": "white",
           "zerolinewidth": 2
          }
         }
        },
        "title": {
         "text": "Scatter Plots For Each Cost Driver"
        },
        "xaxis": {
         "anchor": "y",
         "domain": [
          0,
          1
         ],
         "title": {
          "text": "Average Total Time Spent on Customer Requests (per month)"
         }
        },
        "xaxis2": {
         "anchor": "y2",
         "domain": [
          0,
          1
         ],
         "title": {
          "text": "Average Number of Customer Requests (per month)"
         }
        },
        "xaxis3": {
         "anchor": "y3",
         "domain": [
          0,
          1
         ],
         "title": {
          "text": "Number of Communication Channels Available"
         }
        },
        "xaxis4": {
         "anchor": "y4",
         "domain": [
          0,
          1
         ],
         "title": {
          "text": "Number of Customers Assigned to the Customer Service Department"
         }
        },
        "yaxis": {
         "anchor": "x",
         "domain": [
          0.80625,
          1
         ],
         "title": {
          "text": "Dept. Cost ($)"
         }
        },
        "yaxis2": {
         "anchor": "x2",
         "domain": [
          0.5375,
          0.73125
         ],
         "title": {
          "text": "Dept. Cost ($)"
         }
        },
        "yaxis3": {
         "anchor": "x3",
         "domain": [
          0.26875,
          0.4625
         ],
         "title": {
          "text": "Dept. Cost ($)"
         }
        },
        "yaxis4": {
         "anchor": "x4",
         "domain": [
          0,
          0.19375
         ],
         "title": {
          "text": "Dept. Cost ($)"
         }
        }
       }
      }
     },
     "metadata": {},
     "output_type": "display_data"
    }
   ],
   "source": [
    "fig = make_subplots(rows=4, cols=1)\n",
    "\n",
    "fig.add_trace(\n",
    "    go.Scatter(x=ce['Time'], \n",
    "               y=ce['DeptCosts'],\n",
    "               mode='markers', text=ce['State'] ),\n",
    "\n",
    "1,1)\n",
    "\n",
    "fig.add_trace(\n",
    "    go.Scatter(x=ce['NumbRequests'], \n",
    "               y=ce['DeptCosts'], mode='markers', text=ce['State']),\n",
    "2,1)\n",
    "\n",
    "\n",
    "fig.add_trace(\n",
    "    go.Scatter(x=ce['ComChannels'], \n",
    "               y=ce['DeptCosts'], mode='markers', text=ce['State']),\n",
    "3,1)\n",
    "\n",
    "fig.add_trace(\n",
    "    go.Scatter(x=ce['NumbCustomers'], \n",
    "               y=ce['DeptCosts'], mode='markers', text=ce['State']),\n",
    "4,1)\n",
    "\n",
    "fig.update(layout_showlegend=False)\n",
    "\n",
    "\n",
    "fig.update_layout(\n",
    "    xaxis=dict( title='Average Total Time Spent on Customer Requests (per month)'),\n",
    "    xaxis2=dict( title='Average Number of Customer Requests (per month)'),\n",
    "    xaxis3=dict( title='Number of Communication Channels Available'),\n",
    "    xaxis4=dict( title='Number of Customers Assigned to the Customer Service Department'),\n",
    "    yaxis=dict( title = 'Dept. Cost ($)'),\n",
    "    yaxis2=dict( title = 'Dept. Cost ($)'),\n",
    "    yaxis3=dict( title = 'Dept. Cost ($)'),\n",
    "    yaxis4=dict( title = 'Dept. Cost ($)')\n",
    ")\n",
    "\n",
    "\n",
    "\n",
    "fig.update_layout(\n",
    "    height=800,\n",
    "    title_text=\"Scatter Plots For Each Cost Driver\"\n",
    "    )\n",
    "\n",
    "\n",
    "fig.show()"
   ]
  },
  {
   "cell_type": "code",
   "execution_count": 24,
   "metadata": {},
   "outputs": [
    {
     "data": {
      "text/html": [
       "<div>\n",
       "<style scoped>\n",
       "    .dataframe tbody tr th:only-of-type {\n",
       "        vertical-align: middle;\n",
       "    }\n",
       "\n",
       "    .dataframe tbody tr th {\n",
       "        vertical-align: top;\n",
       "    }\n",
       "\n",
       "    .dataframe thead th {\n",
       "        text-align: right;\n",
       "    }\n",
       "</style>\n",
       "<table border=\"1\" class=\"dataframe\">\n",
       "  <thead>\n",
       "    <tr style=\"text-align: right;\">\n",
       "      <th></th>\n",
       "      <th>State</th>\n",
       "      <th>Time</th>\n",
       "      <th>NumbRequests</th>\n",
       "      <th>ComChannels</th>\n",
       "      <th>NumbCustomers</th>\n",
       "      <th>DeptCosts</th>\n",
       "    </tr>\n",
       "  </thead>\n",
       "  <tbody>\n",
       "    <tr>\n",
       "      <th>45</th>\n",
       "      <td>Virginia</td>\n",
       "      <td>7519</td>\n",
       "      <td>55</td>\n",
       "      <td>10</td>\n",
       "      <td>19524</td>\n",
       "      <td>93875.29</td>\n",
       "    </tr>\n",
       "  </tbody>\n",
       "</table>\n",
       "</div>"
      ],
      "text/plain": [
       "       State  Time  NumbRequests  ComChannels  NumbCustomers  DeptCosts\n",
       "45  Virginia  7519            55           10          19524   93875.29"
      ]
     },
     "execution_count": 24,
     "metadata": {},
     "output_type": "execute_result"
    }
   ],
   "source": [
    "ce[ce['State'] == 'Virginia']"
   ]
  },
  {
   "cell_type": "markdown",
   "metadata": {},
   "source": [
    "In all four of the scatter plot, we significantly observe that Virginia appears to be an outlier. We can see in the excel file that the Number of Customers is only 19524 yet the Average Time Spent on customers is 7519. The NumbRequests and ComChannels are all relatively high in terms of other States. We can assume that in Virginia during this excel was an temporary exception as it does not relatively presents an overview to the norm of dataset. Thus we eliminate this observation from the further analysis."
   ]
  },
  {
   "cell_type": "code",
   "execution_count": 25,
   "metadata": {},
   "outputs": [],
   "source": [
    "ce = ce[ce['State'] != 'Virginia']"
   ]
  },
  {
   "cell_type": "markdown",
   "metadata": {},
   "source": [
    "**2.** (6 points) Use regression analysis to develop cost models for all cost drivers. Identify the best\n",
    "model and explain why.\n"
   ]
  },
  {
   "cell_type": "markdown",
   "metadata": {},
   "source": [
    "We have identified the best model here to the multivariate regression model with the Average Total Time Spent on Customer Requests (per month) and the Average Number of Customer Requests Processed per month and Number of Communication Channels Available to Contact the\n",
    "Customer Service as independent variables is the one with the highest adjusted R_squared and, therefore, should be used for further analysis. \n",
    "\n",
    "We can see that the top two models are \n",
    "- model 12: 'DeptCosts ~ Time + NumbRequests + ComChannels + NumbCustomers'\n",
    "- model 14: 'DeptCosts ~ Time + NumbRequests + ComChannels'\n",
    "\n",
    "We have chosen model 14 because of its higher adjusted R_squared. Also if we take a look at its variable \"NumbCustomers\" We see its coefficient is -0.0186 with P-value of  0.724. This means that each increasing customers will instead bring down the cost. This does not economically meet the norm. The P-vlaue also states that it is not significant. Then we take a look at model 14. All varaibles are significant (P-values < 0.05) and its coefficients are positive which is acceptable to assume in terms of cost for the dependent variable.\n",
    "\n",
    "**Final Model**\n",
    "\n",
    "Department Cost = \n",
    "- 1.325e+04 + \n",
    "- 9.2458 * Average total time spent on customer requests per month + \n",
    "- 72.2524 * Average number of customer requests processed per month + \n",
    "- 326.3311 * Number of communication channels available to contact the\n",
    "customer service"
   ]
  },
  {
   "cell_type": "code",
   "execution_count": 26,
   "metadata": {},
   "outputs": [
    {
     "data": {
      "text/html": [
       "<div>\n",
       "<style scoped>\n",
       "    .dataframe tbody tr th:only-of-type {\n",
       "        vertical-align: middle;\n",
       "    }\n",
       "\n",
       "    .dataframe tbody tr th {\n",
       "        vertical-align: top;\n",
       "    }\n",
       "\n",
       "    .dataframe thead th {\n",
       "        text-align: right;\n",
       "    }\n",
       "</style>\n",
       "<table border=\"1\" class=\"dataframe\">\n",
       "  <thead>\n",
       "    <tr style=\"text-align: right;\">\n",
       "      <th></th>\n",
       "      <th>State</th>\n",
       "      <th>Time</th>\n",
       "      <th>NumbRequests</th>\n",
       "      <th>ComChannels</th>\n",
       "      <th>NumbCustomers</th>\n",
       "      <th>DeptCosts</th>\n",
       "    </tr>\n",
       "  </thead>\n",
       "  <tbody>\n",
       "    <tr>\n",
       "      <th>0</th>\n",
       "      <td>Alabama</td>\n",
       "      <td>3410</td>\n",
       "      <td>80</td>\n",
       "      <td>2</td>\n",
       "      <td>15838</td>\n",
       "      <td>52744.34</td>\n",
       "    </tr>\n",
       "    <tr>\n",
       "      <th>1</th>\n",
       "      <td>Alaska</td>\n",
       "      <td>2979</td>\n",
       "      <td>47</td>\n",
       "      <td>1</td>\n",
       "      <td>11107</td>\n",
       "      <td>46044.03</td>\n",
       "    </tr>\n",
       "    <tr>\n",
       "      <th>2</th>\n",
       "      <td>Arizona</td>\n",
       "      <td>5099</td>\n",
       "      <td>66</td>\n",
       "      <td>4</td>\n",
       "      <td>23717</td>\n",
       "      <td>68237.74</td>\n",
       "    </tr>\n",
       "  </tbody>\n",
       "</table>\n",
       "</div>"
      ],
      "text/plain": [
       "     State  Time  NumbRequests  ComChannels  NumbCustomers  DeptCosts\n",
       "0  Alabama  3410            80            2          15838   52744.34\n",
       "1   Alaska  2979            47            1          11107   46044.03\n",
       "2  Arizona  5099            66            4          23717   68237.74"
      ]
     },
     "execution_count": 26,
     "metadata": {},
     "output_type": "execute_result"
    }
   ],
   "source": [
    "ce.head(3)"
   ]
  },
  {
   "cell_type": "code",
   "execution_count": 27,
   "metadata": {},
   "outputs": [
    {
     "name": "stdout",
     "output_type": "stream",
     "text": [
      "0.9189944851372154\n",
      "0.020653040787111054\n",
      "9.2528581796536e-08\n",
      "0.006600380679075757\n",
      "0.9319862419044992\n",
      "0.917240185447718\n",
      "0.9155242383196602\n",
      "-0.006762733400371035\n",
      "-0.02017533678036898\n",
      "-0.03605233989211287\n",
      "-0.0289023263605237\n",
      "0.9364231309570616\n",
      "0.9313987061976168\n",
      "0.937657806828729\n"
     ]
    }
   ],
   "source": [
    "m = smf.ols('DeptCosts ~ Time', data=ce)\n",
    "m = m.fit()\n",
    "\n",
    "m2 = smf.ols('DeptCosts ~ NumbRequests', data=ce)\n",
    "m2 = m2.fit()\n",
    "\n",
    "m3 = smf.ols('DeptCosts ~ ComChannels', data=ce)\n",
    "m3 = m3.fit()\n",
    "\n",
    "m4 = smf.ols('DeptCosts ~ NumbCustomers', data=ce)\n",
    "m4 = m4.fit()\n",
    "\n",
    "m5 = smf.ols('DeptCosts ~ Time + NumbRequests', data=ce)\n",
    "m5 = m5.fit()\n",
    "\n",
    "m6 = smf.ols('DeptCosts ~ Time + ComChannels', data=ce)\n",
    "m6 = m6.fit()\n",
    "\n",
    "m7 = smf.ols('DeptCosts ~ Time + NumbCustomers', data=ce)\n",
    "m7 = m7.fit()\n",
    "\n",
    "m8 = smf.ols('DeptCosts ~ NumbRequests + NumbCustomers', data=ce)\n",
    "m8 = m8.fit()\n",
    "\n",
    "m9 = smf.ols('DeptCosts ~ NumbRequests + ComChannels', data=ce)\n",
    "m9 = m9.fit()\n",
    "\n",
    "m10 = smf.ols('DeptCosts ~ ComChannels + NumbCustomers', data=ce)\n",
    "m10 = m10.fit()\n",
    "\n",
    "m11 = smf.ols('DeptCosts ~ NumbRequests + ComChannels + NumbCustomers', data=ce)\n",
    "m11 = m11.fit()\n",
    "\n",
    "m12 = smf.ols('DeptCosts ~ Time + NumbRequests + ComChannels + NumbCustomers', data=ce)\n",
    "m12 = m12.fit()\n",
    "\n",
    "m13 = smf.ols('DeptCosts ~ Time + NumbRequests + NumbCustomers', data=ce)\n",
    "m13 = m13.fit()\n",
    "\n",
    "m14 = smf.ols('DeptCosts ~ Time + NumbRequests + ComChannels', data=ce)\n",
    "m14 = m14.fit()\n",
    "\n",
    "print(m.rsquared)\n",
    "print(m2.rsquared)\n",
    "print(m3.rsquared)\n",
    "print(m4.rsquared)\n",
    "print(m5.rsquared_adj)\n",
    "print(m6.rsquared_adj)\n",
    "print(m7.rsquared_adj)\n",
    "print(m8.rsquared_adj)\n",
    "print(m9.rsquared_adj)\n",
    "print(m10.rsquared_adj)\n",
    "print(m11.rsquared_adj)\n",
    "print(m12.rsquared_adj)\n",
    "print(m13.rsquared_adj)\n",
    "print(m14.rsquared_adj)"
   ]
  },
  {
   "cell_type": "code",
   "execution_count": 28,
   "metadata": {},
   "outputs": [
    {
     "name": "stdout",
     "output_type": "stream",
     "text": [
      "                            OLS Regression Results                            \n",
      "==============================================================================\n",
      "Dep. Variable:              DeptCosts   R-squared:                       0.942\n",
      "Model:                            OLS   Adj. R-squared:                  0.936\n",
      "Method:                 Least Squares   F-statistic:                     177.7\n",
      "Date:                Thu, 23 May 2024   Prob (F-statistic):           1.51e-26\n",
      "Time:                        03:24:00   Log-Likelihood:                -453.10\n",
      "No. Observations:                  49   AIC:                             916.2\n",
      "Df Residuals:                      44   BIC:                             925.7\n",
      "Df Model:                           4                                         \n",
      "Covariance Type:            nonrobust                                         \n",
      "=================================================================================\n",
      "                    coef    std err          t      P>|t|      [0.025      0.975]\n",
      "---------------------------------------------------------------------------------\n",
      "Intercept      1.358e+04   2536.639      5.352      0.000    8464.681    1.87e+04\n",
      "Time              9.2625      0.354     26.158      0.000       8.549       9.976\n",
      "NumbRequests     73.6964     18.653      3.951      0.000      36.105     111.288\n",
      "ComChannels     315.5956    147.851      2.135      0.038      17.621     613.570\n",
      "NumbCustomers    -0.0186      0.052     -0.355      0.724      -0.124       0.087\n",
      "==============================================================================\n",
      "Omnibus:                        1.565   Durbin-Watson:                   2.215\n",
      "Prob(Omnibus):                  0.457   Jarque-Bera (JB):                1.534\n",
      "Skew:                          -0.354   Prob(JB):                        0.464\n",
      "Kurtosis:                       2.500   Cond. No.                     1.68e+05\n",
      "==============================================================================\n",
      "\n",
      "Notes:\n",
      "[1] Standard Errors assume that the covariance matrix of the errors is correctly specified.\n",
      "[2] The condition number is large, 1.68e+05. This might indicate that there are\n",
      "strong multicollinearity or other numerical problems.\n"
     ]
    }
   ],
   "source": [
    "print(m12.summary())"
   ]
  },
  {
   "cell_type": "code",
   "execution_count": 29,
   "metadata": {},
   "outputs": [
    {
     "name": "stdout",
     "output_type": "stream",
     "text": [
      "                            OLS Regression Results                            \n",
      "==============================================================================\n",
      "Dep. Variable:              DeptCosts   R-squared:                       0.942\n",
      "Model:                            OLS   Adj. R-squared:                  0.938\n",
      "Method:                 Least Squares   F-statistic:                     241.6\n",
      "Date:                Thu, 23 May 2024   Prob (F-statistic):           9.44e-28\n",
      "Time:                        03:24:00   Log-Likelihood:                -453.17\n",
      "No. Observations:                  49   AIC:                             914.3\n",
      "Df Residuals:                      45   BIC:                             921.9\n",
      "Df Model:                           3                                         \n",
      "Covariance Type:            nonrobust                                         \n",
      "================================================================================\n",
      "                   coef    std err          t      P>|t|      [0.025      0.975]\n",
      "--------------------------------------------------------------------------------\n",
      "Intercept     1.325e+04   2338.322      5.666      0.000    8538.306     1.8e+04\n",
      "Time             9.2458      0.348     26.604      0.000       8.546       9.946\n",
      "NumbRequests    72.2524     18.026      4.008      0.000      35.946     108.559\n",
      "ComChannels    326.3311    143.315      2.277      0.028      37.680     614.982\n",
      "==============================================================================\n",
      "Omnibus:                        1.662   Durbin-Watson:                   2.203\n",
      "Prob(Omnibus):                  0.436   Jarque-Bera (JB):                1.625\n",
      "Skew:                          -0.375   Prob(JB):                        0.444\n",
      "Kurtosis:                       2.517   Cond. No.                     2.72e+04\n",
      "==============================================================================\n",
      "\n",
      "Notes:\n",
      "[1] Standard Errors assume that the covariance matrix of the errors is correctly specified.\n",
      "[2] The condition number is large, 2.72e+04. This might indicate that there are\n",
      "strong multicollinearity or other numerical problems.\n"
     ]
    }
   ],
   "source": [
    "print(m14.summary())"
   ]
  },
  {
   "cell_type": "markdown",
   "metadata": {},
   "source": [
    "**3.** (6 points) Explain what the model means from an economic perspective.\n"
   ]
  },
  {
   "cell_type": "markdown",
   "metadata": {},
   "source": [
    "Department Cost = \n",
    "- 1.325e+04 + \n",
    "- 9.2458 * Average total time spent on customer requests per month + \n",
    "- 72.2524 * Average number of customer requests processed per month + \n",
    "- 326.3311 * Number of communication channels available to contact the\n",
    "customer service\n",
    "\n",
    "The average total time spent on customer requests per month measures the duration spent on requests. Some requests requires long-duration for solving or dealing with, whereas some takes short amount of time. The longer the time spent on requests, the more human captial are needed; thus, bringing higher department costs. The model supports this relationship. \n",
    "\n",
    "The similarity applies to variable the average number of customer requests processed per month. This measures the number of acitivity of handling the requests. Each state have different average number of customer requests per month. Some might be handling large quantity of requests each month whilst some handles very little requests each month. The larger the average number of customer requests, the larger the cost is on handling these requests. This model supports this relationship. \n",
    "\n",
    "The Number of communication channels available to contact the customer service measures the establishment of channels avalibility for customer services. The more channels a state has for customer services, the higher of cost it bears since there are more availibility for incoming requests and thus more time spent on the requests. These channels need personnel and each personnel have to review and maintained the channels. This should lead to higher department costs. The model supports this relationship as well. \n",
    "\n",
    "Last, which is not included in the model is the Number of Customers which measures the number of customers assigned to the customer service department. In genreal, it would be acceptable to assum that the more of the number of customers allocated to the state, the larger the department costs would be. However, the analysis actually do not present relationship between these two variables."
   ]
  },
  {
   "cell_type": "markdown",
   "metadata": {},
   "source": [
    "**4.** (8 points) Use the model to make two recommendations to PrimeConnect for improving the\n",
    "efficiency of the operating department. Be specific with the details of the recommendation.\n"
   ]
  },
  {
   "cell_type": "markdown",
   "metadata": {},
   "source": [
    "We use a conservative estimate based on the final regression model to estimate the potential cost savings from the recommended activities. We use 180 USD per hour of average time and 5000 USD per Communication Channels."
   ]
  },
  {
   "cell_type": "markdown",
   "metadata": {},
   "source": [
    "**Time**\n"
   ]
  },
  {
   "cell_type": "markdown",
   "metadata": {},
   "source": [
    "The average time spent on customer requests per month should not depend on the amount of number of customers. Currently, the range of time spent is from 2100 to 7180, with a median of 4201. Time reduction should initially be targeted at those with an extremely high number of time spent on customer requests. The recommendation is for all states to reduce their time to 4800 or fewer. The few states with the high numbers would have to decrease their time by almost 35%. Thus, the recommendation is as follows: all states should reduce their average time spent to 4800 or fewer within six months, except those time with more than 5500 ; those states should reduce their time by 15% in the first six months and to 4800 in the second six months. "
   ]
  },
  {
   "cell_type": "code",
   "execution_count": 30,
   "metadata": {},
   "outputs": [
    {
     "data": {
      "text/plain": [
       "count      49.000000\n",
       "mean     4201.204082\n",
       "std      1142.836402\n",
       "min      2100.000000\n",
       "25%      3317.000000\n",
       "50%      4011.000000\n",
       "75%      5050.000000\n",
       "max      7180.000000\n",
       "Name: Time, dtype: float64"
      ]
     },
     "execution_count": 30,
     "metadata": {},
     "output_type": "execute_result"
    }
   ],
   "source": [
    "ce['Time'].describe()"
   ]
  },
  {
   "cell_type": "code",
   "execution_count": 31,
   "metadata": {},
   "outputs": [
    {
     "data": {
      "application/vnd.plotly.v1+json": {
       "config": {
        "plotlyServerURL": "https://plot.ly"
       },
       "data": [
        {
         "type": "histogram",
         "x": [
          3410,
          2979,
          5099,
          2539,
          2100,
          3989,
          4011,
          2802,
          5831,
          5050,
          3069,
          3670,
          4578,
          3573,
          4625,
          4755,
          2936,
          3147,
          4676,
          2708,
          5574,
          5478,
          5241,
          4957,
          3053,
          2738,
          5819,
          5463,
          5302,
          3991,
          3317,
          3984,
          4790,
          4244,
          3476,
          6987,
          4513,
          4588,
          3709,
          4450,
          3910,
          3589,
          3591,
          4202,
          5214,
          3241,
          5163,
          2548,
          7180
         ],
         "xbins": {
          "size": 5
         }
        }
       ],
       "layout": {
        "template": {
         "data": {
          "bar": [
           {
            "error_x": {
             "color": "#2a3f5f"
            },
            "error_y": {
             "color": "#2a3f5f"
            },
            "marker": {
             "line": {
              "color": "#E5ECF6",
              "width": 0.5
             },
             "pattern": {
              "fillmode": "overlay",
              "size": 10,
              "solidity": 0.2
             }
            },
            "type": "bar"
           }
          ],
          "barpolar": [
           {
            "marker": {
             "line": {
              "color": "#E5ECF6",
              "width": 0.5
             },
             "pattern": {
              "fillmode": "overlay",
              "size": 10,
              "solidity": 0.2
             }
            },
            "type": "barpolar"
           }
          ],
          "carpet": [
           {
            "aaxis": {
             "endlinecolor": "#2a3f5f",
             "gridcolor": "white",
             "linecolor": "white",
             "minorgridcolor": "white",
             "startlinecolor": "#2a3f5f"
            },
            "baxis": {
             "endlinecolor": "#2a3f5f",
             "gridcolor": "white",
             "linecolor": "white",
             "minorgridcolor": "white",
             "startlinecolor": "#2a3f5f"
            },
            "type": "carpet"
           }
          ],
          "choropleth": [
           {
            "colorbar": {
             "outlinewidth": 0,
             "ticks": ""
            },
            "type": "choropleth"
           }
          ],
          "contour": [
           {
            "colorbar": {
             "outlinewidth": 0,
             "ticks": ""
            },
            "colorscale": [
             [
              0,
              "#0d0887"
             ],
             [
              0.1111111111111111,
              "#46039f"
             ],
             [
              0.2222222222222222,
              "#7201a8"
             ],
             [
              0.3333333333333333,
              "#9c179e"
             ],
             [
              0.4444444444444444,
              "#bd3786"
             ],
             [
              0.5555555555555556,
              "#d8576b"
             ],
             [
              0.6666666666666666,
              "#ed7953"
             ],
             [
              0.7777777777777778,
              "#fb9f3a"
             ],
             [
              0.8888888888888888,
              "#fdca26"
             ],
             [
              1,
              "#f0f921"
             ]
            ],
            "type": "contour"
           }
          ],
          "contourcarpet": [
           {
            "colorbar": {
             "outlinewidth": 0,
             "ticks": ""
            },
            "type": "contourcarpet"
           }
          ],
          "heatmap": [
           {
            "colorbar": {
             "outlinewidth": 0,
             "ticks": ""
            },
            "colorscale": [
             [
              0,
              "#0d0887"
             ],
             [
              0.1111111111111111,
              "#46039f"
             ],
             [
              0.2222222222222222,
              "#7201a8"
             ],
             [
              0.3333333333333333,
              "#9c179e"
             ],
             [
              0.4444444444444444,
              "#bd3786"
             ],
             [
              0.5555555555555556,
              "#d8576b"
             ],
             [
              0.6666666666666666,
              "#ed7953"
             ],
             [
              0.7777777777777778,
              "#fb9f3a"
             ],
             [
              0.8888888888888888,
              "#fdca26"
             ],
             [
              1,
              "#f0f921"
             ]
            ],
            "type": "heatmap"
           }
          ],
          "heatmapgl": [
           {
            "colorbar": {
             "outlinewidth": 0,
             "ticks": ""
            },
            "colorscale": [
             [
              0,
              "#0d0887"
             ],
             [
              0.1111111111111111,
              "#46039f"
             ],
             [
              0.2222222222222222,
              "#7201a8"
             ],
             [
              0.3333333333333333,
              "#9c179e"
             ],
             [
              0.4444444444444444,
              "#bd3786"
             ],
             [
              0.5555555555555556,
              "#d8576b"
             ],
             [
              0.6666666666666666,
              "#ed7953"
             ],
             [
              0.7777777777777778,
              "#fb9f3a"
             ],
             [
              0.8888888888888888,
              "#fdca26"
             ],
             [
              1,
              "#f0f921"
             ]
            ],
            "type": "heatmapgl"
           }
          ],
          "histogram": [
           {
            "marker": {
             "pattern": {
              "fillmode": "overlay",
              "size": 10,
              "solidity": 0.2
             }
            },
            "type": "histogram"
           }
          ],
          "histogram2d": [
           {
            "colorbar": {
             "outlinewidth": 0,
             "ticks": ""
            },
            "colorscale": [
             [
              0,
              "#0d0887"
             ],
             [
              0.1111111111111111,
              "#46039f"
             ],
             [
              0.2222222222222222,
              "#7201a8"
             ],
             [
              0.3333333333333333,
              "#9c179e"
             ],
             [
              0.4444444444444444,
              "#bd3786"
             ],
             [
              0.5555555555555556,
              "#d8576b"
             ],
             [
              0.6666666666666666,
              "#ed7953"
             ],
             [
              0.7777777777777778,
              "#fb9f3a"
             ],
             [
              0.8888888888888888,
              "#fdca26"
             ],
             [
              1,
              "#f0f921"
             ]
            ],
            "type": "histogram2d"
           }
          ],
          "histogram2dcontour": [
           {
            "colorbar": {
             "outlinewidth": 0,
             "ticks": ""
            },
            "colorscale": [
             [
              0,
              "#0d0887"
             ],
             [
              0.1111111111111111,
              "#46039f"
             ],
             [
              0.2222222222222222,
              "#7201a8"
             ],
             [
              0.3333333333333333,
              "#9c179e"
             ],
             [
              0.4444444444444444,
              "#bd3786"
             ],
             [
              0.5555555555555556,
              "#d8576b"
             ],
             [
              0.6666666666666666,
              "#ed7953"
             ],
             [
              0.7777777777777778,
              "#fb9f3a"
             ],
             [
              0.8888888888888888,
              "#fdca26"
             ],
             [
              1,
              "#f0f921"
             ]
            ],
            "type": "histogram2dcontour"
           }
          ],
          "mesh3d": [
           {
            "colorbar": {
             "outlinewidth": 0,
             "ticks": ""
            },
            "type": "mesh3d"
           }
          ],
          "parcoords": [
           {
            "line": {
             "colorbar": {
              "outlinewidth": 0,
              "ticks": ""
             }
            },
            "type": "parcoords"
           }
          ],
          "pie": [
           {
            "automargin": true,
            "type": "pie"
           }
          ],
          "scatter": [
           {
            "fillpattern": {
             "fillmode": "overlay",
             "size": 10,
             "solidity": 0.2
            },
            "type": "scatter"
           }
          ],
          "scatter3d": [
           {
            "line": {
             "colorbar": {
              "outlinewidth": 0,
              "ticks": ""
             }
            },
            "marker": {
             "colorbar": {
              "outlinewidth": 0,
              "ticks": ""
             }
            },
            "type": "scatter3d"
           }
          ],
          "scattercarpet": [
           {
            "marker": {
             "colorbar": {
              "outlinewidth": 0,
              "ticks": ""
             }
            },
            "type": "scattercarpet"
           }
          ],
          "scattergeo": [
           {
            "marker": {
             "colorbar": {
              "outlinewidth": 0,
              "ticks": ""
             }
            },
            "type": "scattergeo"
           }
          ],
          "scattergl": [
           {
            "marker": {
             "colorbar": {
              "outlinewidth": 0,
              "ticks": ""
             }
            },
            "type": "scattergl"
           }
          ],
          "scattermapbox": [
           {
            "marker": {
             "colorbar": {
              "outlinewidth": 0,
              "ticks": ""
             }
            },
            "type": "scattermapbox"
           }
          ],
          "scatterpolar": [
           {
            "marker": {
             "colorbar": {
              "outlinewidth": 0,
              "ticks": ""
             }
            },
            "type": "scatterpolar"
           }
          ],
          "scatterpolargl": [
           {
            "marker": {
             "colorbar": {
              "outlinewidth": 0,
              "ticks": ""
             }
            },
            "type": "scatterpolargl"
           }
          ],
          "scatterternary": [
           {
            "marker": {
             "colorbar": {
              "outlinewidth": 0,
              "ticks": ""
             }
            },
            "type": "scatterternary"
           }
          ],
          "surface": [
           {
            "colorbar": {
             "outlinewidth": 0,
             "ticks": ""
            },
            "colorscale": [
             [
              0,
              "#0d0887"
             ],
             [
              0.1111111111111111,
              "#46039f"
             ],
             [
              0.2222222222222222,
              "#7201a8"
             ],
             [
              0.3333333333333333,
              "#9c179e"
             ],
             [
              0.4444444444444444,
              "#bd3786"
             ],
             [
              0.5555555555555556,
              "#d8576b"
             ],
             [
              0.6666666666666666,
              "#ed7953"
             ],
             [
              0.7777777777777778,
              "#fb9f3a"
             ],
             [
              0.8888888888888888,
              "#fdca26"
             ],
             [
              1,
              "#f0f921"
             ]
            ],
            "type": "surface"
           }
          ],
          "table": [
           {
            "cells": {
             "fill": {
              "color": "#EBF0F8"
             },
             "line": {
              "color": "white"
             }
            },
            "header": {
             "fill": {
              "color": "#C8D4E3"
             },
             "line": {
              "color": "white"
             }
            },
            "type": "table"
           }
          ]
         },
         "layout": {
          "annotationdefaults": {
           "arrowcolor": "#2a3f5f",
           "arrowhead": 0,
           "arrowwidth": 1
          },
          "autotypenumbers": "strict",
          "coloraxis": {
           "colorbar": {
            "outlinewidth": 0,
            "ticks": ""
           }
          },
          "colorscale": {
           "diverging": [
            [
             0,
             "#8e0152"
            ],
            [
             0.1,
             "#c51b7d"
            ],
            [
             0.2,
             "#de77ae"
            ],
            [
             0.3,
             "#f1b6da"
            ],
            [
             0.4,
             "#fde0ef"
            ],
            [
             0.5,
             "#f7f7f7"
            ],
            [
             0.6,
             "#e6f5d0"
            ],
            [
             0.7,
             "#b8e186"
            ],
            [
             0.8,
             "#7fbc41"
            ],
            [
             0.9,
             "#4d9221"
            ],
            [
             1,
             "#276419"
            ]
           ],
           "sequential": [
            [
             0,
             "#0d0887"
            ],
            [
             0.1111111111111111,
             "#46039f"
            ],
            [
             0.2222222222222222,
             "#7201a8"
            ],
            [
             0.3333333333333333,
             "#9c179e"
            ],
            [
             0.4444444444444444,
             "#bd3786"
            ],
            [
             0.5555555555555556,
             "#d8576b"
            ],
            [
             0.6666666666666666,
             "#ed7953"
            ],
            [
             0.7777777777777778,
             "#fb9f3a"
            ],
            [
             0.8888888888888888,
             "#fdca26"
            ],
            [
             1,
             "#f0f921"
            ]
           ],
           "sequentialminus": [
            [
             0,
             "#0d0887"
            ],
            [
             0.1111111111111111,
             "#46039f"
            ],
            [
             0.2222222222222222,
             "#7201a8"
            ],
            [
             0.3333333333333333,
             "#9c179e"
            ],
            [
             0.4444444444444444,
             "#bd3786"
            ],
            [
             0.5555555555555556,
             "#d8576b"
            ],
            [
             0.6666666666666666,
             "#ed7953"
            ],
            [
             0.7777777777777778,
             "#fb9f3a"
            ],
            [
             0.8888888888888888,
             "#fdca26"
            ],
            [
             1,
             "#f0f921"
            ]
           ]
          },
          "colorway": [
           "#636efa",
           "#EF553B",
           "#00cc96",
           "#ab63fa",
           "#FFA15A",
           "#19d3f3",
           "#FF6692",
           "#B6E880",
           "#FF97FF",
           "#FECB52"
          ],
          "font": {
           "color": "#2a3f5f"
          },
          "geo": {
           "bgcolor": "white",
           "lakecolor": "white",
           "landcolor": "#E5ECF6",
           "showlakes": true,
           "showland": true,
           "subunitcolor": "white"
          },
          "hoverlabel": {
           "align": "left"
          },
          "hovermode": "closest",
          "mapbox": {
           "style": "light"
          },
          "paper_bgcolor": "white",
          "plot_bgcolor": "#E5ECF6",
          "polar": {
           "angularaxis": {
            "gridcolor": "white",
            "linecolor": "white",
            "ticks": ""
           },
           "bgcolor": "#E5ECF6",
           "radialaxis": {
            "gridcolor": "white",
            "linecolor": "white",
            "ticks": ""
           }
          },
          "scene": {
           "xaxis": {
            "backgroundcolor": "#E5ECF6",
            "gridcolor": "white",
            "gridwidth": 2,
            "linecolor": "white",
            "showbackground": true,
            "ticks": "",
            "zerolinecolor": "white"
           },
           "yaxis": {
            "backgroundcolor": "#E5ECF6",
            "gridcolor": "white",
            "gridwidth": 2,
            "linecolor": "white",
            "showbackground": true,
            "ticks": "",
            "zerolinecolor": "white"
           },
           "zaxis": {
            "backgroundcolor": "#E5ECF6",
            "gridcolor": "white",
            "gridwidth": 2,
            "linecolor": "white",
            "showbackground": true,
            "ticks": "",
            "zerolinecolor": "white"
           }
          },
          "shapedefaults": {
           "line": {
            "color": "#2a3f5f"
           }
          },
          "ternary": {
           "aaxis": {
            "gridcolor": "white",
            "linecolor": "white",
            "ticks": ""
           },
           "baxis": {
            "gridcolor": "white",
            "linecolor": "white",
            "ticks": ""
           },
           "bgcolor": "#E5ECF6",
           "caxis": {
            "gridcolor": "white",
            "linecolor": "white",
            "ticks": ""
           }
          },
          "title": {
           "x": 0.05
          },
          "xaxis": {
           "automargin": true,
           "gridcolor": "white",
           "linecolor": "white",
           "ticks": "",
           "title": {
            "standoff": 15
           },
           "zerolinecolor": "white",
           "zerolinewidth": 2
          },
          "yaxis": {
           "automargin": true,
           "gridcolor": "white",
           "linecolor": "white",
           "ticks": "",
           "title": {
            "standoff": 15
           },
           "zerolinecolor": "white",
           "zerolinewidth": 2
          }
         }
        },
        "title": {
         "text": "Distribution of Average Total Time Spent on Customer Requests per Month"
        }
       }
      }
     },
     "metadata": {},
     "output_type": "display_data"
    }
   ],
   "source": [
    "figt = go.Figure(data=[go.Histogram(x=ce['Time'],\n",
    "                                  xbins=dict(size=5.0),)])\n",
    "\n",
    "figt.update_layout(title_text='Distribution of Average Total Time Spent on Customer Requests per Month')\n",
    "    \n",
    "figt.show()"
   ]
  },
  {
   "cell_type": "code",
   "execution_count": 32,
   "metadata": {},
   "outputs": [],
   "source": [
    "ce['TimeReduction'] = ce['Time']-4800\n",
    "ce.loc[ce['TimeReduction']<0,'TimeReduction']=0\n",
    "ce['TimeReductionPerc']= ce['TimeReduction']/ce['Time']*100\n"
   ]
  },
  {
   "cell_type": "code",
   "execution_count": 33,
   "metadata": {},
   "outputs": [],
   "source": [
    "ce['TimeReduction1'] = ce['TimeReduction']\n",
    "ce.loc[ce['Time']>5500,'TimeReduction1']=round(ce['Time']*0.15)"
   ]
  },
  {
   "cell_type": "code",
   "execution_count": 34,
   "metadata": {},
   "outputs": [
    {
     "name": "stdout",
     "output_type": "stream",
     "text": [
      "In the first 6 months, the time spent on customer requests per month is reduced by 8476 .\n",
      "This results in estimated cost savings of 1525680 USD per year.\n",
      "After 12 months, time spent on customer requests per month will be reduced by 11158 in total.\n",
      "A conservative estimate of the total cost savings from reducing time spent on customer requests per month is 2008440 USD per year.\n"
     ]
    }
   ],
   "source": [
    "print('In the first 6 months, the time spent on customer requests per month is reduced by', np.sum(ce['TimeReduction1']),'.')\n",
    "print('This results in estimated cost savings of'  , np.sum(ce['TimeReduction1'])*180, 'USD per year.')\n",
    "\n",
    "print('After 12 months, time spent on customer requests per month will be reduced by', np.sum(ce['TimeReduction']),'in total.')\n",
    "print('A conservative estimate of the total cost savings from reducing time spent on customer requests per month is'  ,np.sum(ce['TimeReduction'])*180, 'USD per year.')"
   ]
  },
  {
   "cell_type": "markdown",
   "metadata": {},
   "source": [
    "**ComChannels**"
   ]
  },
  {
   "cell_type": "markdown",
   "metadata": {},
   "source": [
    "As the company increase in size, the number of customers is expected to increase, and moreover leading to growing number of customers in need of customer services. Thus, a better metric for analyzing communication channels is the average customer per channels (NC/CC). Across all states, the NC/CC ranged from 284 rate to 40718 rate. Twenty-two states were very low (under 5000 rate), and thirty more were somewhat underachieving (under 9000 rate)."
   ]
  },
  {
   "cell_type": "code",
   "execution_count": 35,
   "metadata": {},
   "outputs": [
    {
     "data": {
      "text/plain": [
       "count       49.000000\n",
       "mean      9312.691885\n",
       "std       9833.392935\n",
       "min        284.000000\n",
       "25%       3234.714286\n",
       "50%       5929.250000\n",
       "75%       9735.000000\n",
       "max      40718.000000\n",
       "Name: NCCC, dtype: float64"
      ]
     },
     "execution_count": 35,
     "metadata": {},
     "output_type": "execute_result"
    }
   ],
   "source": [
    "ce['NCCC']=ce['NumbCustomers']/ce['ComChannels']\n",
    "ce['NCCC'].describe()"
   ]
  },
  {
   "cell_type": "code",
   "execution_count": 36,
   "metadata": {},
   "outputs": [
    {
     "data": {
      "application/vnd.plotly.v1+json": {
       "config": {
        "plotlyServerURL": "https://plot.ly"
       },
       "data": [
        {
         "type": "histogram",
         "x": [
          7919,
          11107,
          5929.25,
          4525.428571428572,
          8074.5,
          2179.7,
          35628,
          29030,
          3405,
          2609.1428571428573,
          3099.3333333333335,
          1665.5833333333333,
          6068.75,
          21145,
          3374.714285714286,
          9462.666666666666,
          9735,
          4366.428571428572,
          3602.875,
          4579.2,
          11575,
          5416,
          6579,
          5932.75,
          1772.8333333333333,
          284,
          4408,
          30529,
          6839.5,
          12380.5,
          2439.5714285714284,
          6718.666666666667,
          2122.714285714286,
          1271.875,
          2584.6,
          33517,
          4763.6,
          2823.8333333333335,
          9239,
          15147.5,
          5779.25,
          9700.25,
          13669,
          3944.5714285714284,
          3234.714285714286,
          40718,
          27117,
          5935,
          2372.6
         ],
         "xbins": {
          "size": 10000
         }
        }
       ],
       "layout": {
        "template": {
         "data": {
          "bar": [
           {
            "error_x": {
             "color": "#2a3f5f"
            },
            "error_y": {
             "color": "#2a3f5f"
            },
            "marker": {
             "line": {
              "color": "#E5ECF6",
              "width": 0.5
             },
             "pattern": {
              "fillmode": "overlay",
              "size": 10,
              "solidity": 0.2
             }
            },
            "type": "bar"
           }
          ],
          "barpolar": [
           {
            "marker": {
             "line": {
              "color": "#E5ECF6",
              "width": 0.5
             },
             "pattern": {
              "fillmode": "overlay",
              "size": 10,
              "solidity": 0.2
             }
            },
            "type": "barpolar"
           }
          ],
          "carpet": [
           {
            "aaxis": {
             "endlinecolor": "#2a3f5f",
             "gridcolor": "white",
             "linecolor": "white",
             "minorgridcolor": "white",
             "startlinecolor": "#2a3f5f"
            },
            "baxis": {
             "endlinecolor": "#2a3f5f",
             "gridcolor": "white",
             "linecolor": "white",
             "minorgridcolor": "white",
             "startlinecolor": "#2a3f5f"
            },
            "type": "carpet"
           }
          ],
          "choropleth": [
           {
            "colorbar": {
             "outlinewidth": 0,
             "ticks": ""
            },
            "type": "choropleth"
           }
          ],
          "contour": [
           {
            "colorbar": {
             "outlinewidth": 0,
             "ticks": ""
            },
            "colorscale": [
             [
              0,
              "#0d0887"
             ],
             [
              0.1111111111111111,
              "#46039f"
             ],
             [
              0.2222222222222222,
              "#7201a8"
             ],
             [
              0.3333333333333333,
              "#9c179e"
             ],
             [
              0.4444444444444444,
              "#bd3786"
             ],
             [
              0.5555555555555556,
              "#d8576b"
             ],
             [
              0.6666666666666666,
              "#ed7953"
             ],
             [
              0.7777777777777778,
              "#fb9f3a"
             ],
             [
              0.8888888888888888,
              "#fdca26"
             ],
             [
              1,
              "#f0f921"
             ]
            ],
            "type": "contour"
           }
          ],
          "contourcarpet": [
           {
            "colorbar": {
             "outlinewidth": 0,
             "ticks": ""
            },
            "type": "contourcarpet"
           }
          ],
          "heatmap": [
           {
            "colorbar": {
             "outlinewidth": 0,
             "ticks": ""
            },
            "colorscale": [
             [
              0,
              "#0d0887"
             ],
             [
              0.1111111111111111,
              "#46039f"
             ],
             [
              0.2222222222222222,
              "#7201a8"
             ],
             [
              0.3333333333333333,
              "#9c179e"
             ],
             [
              0.4444444444444444,
              "#bd3786"
             ],
             [
              0.5555555555555556,
              "#d8576b"
             ],
             [
              0.6666666666666666,
              "#ed7953"
             ],
             [
              0.7777777777777778,
              "#fb9f3a"
             ],
             [
              0.8888888888888888,
              "#fdca26"
             ],
             [
              1,
              "#f0f921"
             ]
            ],
            "type": "heatmap"
           }
          ],
          "heatmapgl": [
           {
            "colorbar": {
             "outlinewidth": 0,
             "ticks": ""
            },
            "colorscale": [
             [
              0,
              "#0d0887"
             ],
             [
              0.1111111111111111,
              "#46039f"
             ],
             [
              0.2222222222222222,
              "#7201a8"
             ],
             [
              0.3333333333333333,
              "#9c179e"
             ],
             [
              0.4444444444444444,
              "#bd3786"
             ],
             [
              0.5555555555555556,
              "#d8576b"
             ],
             [
              0.6666666666666666,
              "#ed7953"
             ],
             [
              0.7777777777777778,
              "#fb9f3a"
             ],
             [
              0.8888888888888888,
              "#fdca26"
             ],
             [
              1,
              "#f0f921"
             ]
            ],
            "type": "heatmapgl"
           }
          ],
          "histogram": [
           {
            "marker": {
             "pattern": {
              "fillmode": "overlay",
              "size": 10,
              "solidity": 0.2
             }
            },
            "type": "histogram"
           }
          ],
          "histogram2d": [
           {
            "colorbar": {
             "outlinewidth": 0,
             "ticks": ""
            },
            "colorscale": [
             [
              0,
              "#0d0887"
             ],
             [
              0.1111111111111111,
              "#46039f"
             ],
             [
              0.2222222222222222,
              "#7201a8"
             ],
             [
              0.3333333333333333,
              "#9c179e"
             ],
             [
              0.4444444444444444,
              "#bd3786"
             ],
             [
              0.5555555555555556,
              "#d8576b"
             ],
             [
              0.6666666666666666,
              "#ed7953"
             ],
             [
              0.7777777777777778,
              "#fb9f3a"
             ],
             [
              0.8888888888888888,
              "#fdca26"
             ],
             [
              1,
              "#f0f921"
             ]
            ],
            "type": "histogram2d"
           }
          ],
          "histogram2dcontour": [
           {
            "colorbar": {
             "outlinewidth": 0,
             "ticks": ""
            },
            "colorscale": [
             [
              0,
              "#0d0887"
             ],
             [
              0.1111111111111111,
              "#46039f"
             ],
             [
              0.2222222222222222,
              "#7201a8"
             ],
             [
              0.3333333333333333,
              "#9c179e"
             ],
             [
              0.4444444444444444,
              "#bd3786"
             ],
             [
              0.5555555555555556,
              "#d8576b"
             ],
             [
              0.6666666666666666,
              "#ed7953"
             ],
             [
              0.7777777777777778,
              "#fb9f3a"
             ],
             [
              0.8888888888888888,
              "#fdca26"
             ],
             [
              1,
              "#f0f921"
             ]
            ],
            "type": "histogram2dcontour"
           }
          ],
          "mesh3d": [
           {
            "colorbar": {
             "outlinewidth": 0,
             "ticks": ""
            },
            "type": "mesh3d"
           }
          ],
          "parcoords": [
           {
            "line": {
             "colorbar": {
              "outlinewidth": 0,
              "ticks": ""
             }
            },
            "type": "parcoords"
           }
          ],
          "pie": [
           {
            "automargin": true,
            "type": "pie"
           }
          ],
          "scatter": [
           {
            "fillpattern": {
             "fillmode": "overlay",
             "size": 10,
             "solidity": 0.2
            },
            "type": "scatter"
           }
          ],
          "scatter3d": [
           {
            "line": {
             "colorbar": {
              "outlinewidth": 0,
              "ticks": ""
             }
            },
            "marker": {
             "colorbar": {
              "outlinewidth": 0,
              "ticks": ""
             }
            },
            "type": "scatter3d"
           }
          ],
          "scattercarpet": [
           {
            "marker": {
             "colorbar": {
              "outlinewidth": 0,
              "ticks": ""
             }
            },
            "type": "scattercarpet"
           }
          ],
          "scattergeo": [
           {
            "marker": {
             "colorbar": {
              "outlinewidth": 0,
              "ticks": ""
             }
            },
            "type": "scattergeo"
           }
          ],
          "scattergl": [
           {
            "marker": {
             "colorbar": {
              "outlinewidth": 0,
              "ticks": ""
             }
            },
            "type": "scattergl"
           }
          ],
          "scattermapbox": [
           {
            "marker": {
             "colorbar": {
              "outlinewidth": 0,
              "ticks": ""
             }
            },
            "type": "scattermapbox"
           }
          ],
          "scatterpolar": [
           {
            "marker": {
             "colorbar": {
              "outlinewidth": 0,
              "ticks": ""
             }
            },
            "type": "scatterpolar"
           }
          ],
          "scatterpolargl": [
           {
            "marker": {
             "colorbar": {
              "outlinewidth": 0,
              "ticks": ""
             }
            },
            "type": "scatterpolargl"
           }
          ],
          "scatterternary": [
           {
            "marker": {
             "colorbar": {
              "outlinewidth": 0,
              "ticks": ""
             }
            },
            "type": "scatterternary"
           }
          ],
          "surface": [
           {
            "colorbar": {
             "outlinewidth": 0,
             "ticks": ""
            },
            "colorscale": [
             [
              0,
              "#0d0887"
             ],
             [
              0.1111111111111111,
              "#46039f"
             ],
             [
              0.2222222222222222,
              "#7201a8"
             ],
             [
              0.3333333333333333,
              "#9c179e"
             ],
             [
              0.4444444444444444,
              "#bd3786"
             ],
             [
              0.5555555555555556,
              "#d8576b"
             ],
             [
              0.6666666666666666,
              "#ed7953"
             ],
             [
              0.7777777777777778,
              "#fb9f3a"
             ],
             [
              0.8888888888888888,
              "#fdca26"
             ],
             [
              1,
              "#f0f921"
             ]
            ],
            "type": "surface"
           }
          ],
          "table": [
           {
            "cells": {
             "fill": {
              "color": "#EBF0F8"
             },
             "line": {
              "color": "white"
             }
            },
            "header": {
             "fill": {
              "color": "#C8D4E3"
             },
             "line": {
              "color": "white"
             }
            },
            "type": "table"
           }
          ]
         },
         "layout": {
          "annotationdefaults": {
           "arrowcolor": "#2a3f5f",
           "arrowhead": 0,
           "arrowwidth": 1
          },
          "autotypenumbers": "strict",
          "coloraxis": {
           "colorbar": {
            "outlinewidth": 0,
            "ticks": ""
           }
          },
          "colorscale": {
           "diverging": [
            [
             0,
             "#8e0152"
            ],
            [
             0.1,
             "#c51b7d"
            ],
            [
             0.2,
             "#de77ae"
            ],
            [
             0.3,
             "#f1b6da"
            ],
            [
             0.4,
             "#fde0ef"
            ],
            [
             0.5,
             "#f7f7f7"
            ],
            [
             0.6,
             "#e6f5d0"
            ],
            [
             0.7,
             "#b8e186"
            ],
            [
             0.8,
             "#7fbc41"
            ],
            [
             0.9,
             "#4d9221"
            ],
            [
             1,
             "#276419"
            ]
           ],
           "sequential": [
            [
             0,
             "#0d0887"
            ],
            [
             0.1111111111111111,
             "#46039f"
            ],
            [
             0.2222222222222222,
             "#7201a8"
            ],
            [
             0.3333333333333333,
             "#9c179e"
            ],
            [
             0.4444444444444444,
             "#bd3786"
            ],
            [
             0.5555555555555556,
             "#d8576b"
            ],
            [
             0.6666666666666666,
             "#ed7953"
            ],
            [
             0.7777777777777778,
             "#fb9f3a"
            ],
            [
             0.8888888888888888,
             "#fdca26"
            ],
            [
             1,
             "#f0f921"
            ]
           ],
           "sequentialminus": [
            [
             0,
             "#0d0887"
            ],
            [
             0.1111111111111111,
             "#46039f"
            ],
            [
             0.2222222222222222,
             "#7201a8"
            ],
            [
             0.3333333333333333,
             "#9c179e"
            ],
            [
             0.4444444444444444,
             "#bd3786"
            ],
            [
             0.5555555555555556,
             "#d8576b"
            ],
            [
             0.6666666666666666,
             "#ed7953"
            ],
            [
             0.7777777777777778,
             "#fb9f3a"
            ],
            [
             0.8888888888888888,
             "#fdca26"
            ],
            [
             1,
             "#f0f921"
            ]
           ]
          },
          "colorway": [
           "#636efa",
           "#EF553B",
           "#00cc96",
           "#ab63fa",
           "#FFA15A",
           "#19d3f3",
           "#FF6692",
           "#B6E880",
           "#FF97FF",
           "#FECB52"
          ],
          "font": {
           "color": "#2a3f5f"
          },
          "geo": {
           "bgcolor": "white",
           "lakecolor": "white",
           "landcolor": "#E5ECF6",
           "showlakes": true,
           "showland": true,
           "subunitcolor": "white"
          },
          "hoverlabel": {
           "align": "left"
          },
          "hovermode": "closest",
          "mapbox": {
           "style": "light"
          },
          "paper_bgcolor": "white",
          "plot_bgcolor": "#E5ECF6",
          "polar": {
           "angularaxis": {
            "gridcolor": "white",
            "linecolor": "white",
            "ticks": ""
           },
           "bgcolor": "#E5ECF6",
           "radialaxis": {
            "gridcolor": "white",
            "linecolor": "white",
            "ticks": ""
           }
          },
          "scene": {
           "xaxis": {
            "backgroundcolor": "#E5ECF6",
            "gridcolor": "white",
            "gridwidth": 2,
            "linecolor": "white",
            "showbackground": true,
            "ticks": "",
            "zerolinecolor": "white"
           },
           "yaxis": {
            "backgroundcolor": "#E5ECF6",
            "gridcolor": "white",
            "gridwidth": 2,
            "linecolor": "white",
            "showbackground": true,
            "ticks": "",
            "zerolinecolor": "white"
           },
           "zaxis": {
            "backgroundcolor": "#E5ECF6",
            "gridcolor": "white",
            "gridwidth": 2,
            "linecolor": "white",
            "showbackground": true,
            "ticks": "",
            "zerolinecolor": "white"
           }
          },
          "shapedefaults": {
           "line": {
            "color": "#2a3f5f"
           }
          },
          "ternary": {
           "aaxis": {
            "gridcolor": "white",
            "linecolor": "white",
            "ticks": ""
           },
           "baxis": {
            "gridcolor": "white",
            "linecolor": "white",
            "ticks": ""
           },
           "bgcolor": "#E5ECF6",
           "caxis": {
            "gridcolor": "white",
            "linecolor": "white",
            "ticks": ""
           }
          },
          "title": {
           "x": 0.05
          },
          "xaxis": {
           "automargin": true,
           "gridcolor": "white",
           "linecolor": "white",
           "ticks": "",
           "title": {
            "standoff": 15
           },
           "zerolinecolor": "white",
           "zerolinewidth": 2
          },
          "yaxis": {
           "automargin": true,
           "gridcolor": "white",
           "linecolor": "white",
           "ticks": "",
           "title": {
            "standoff": 15
           },
           "zerolinecolor": "white",
           "zerolinewidth": 2
          }
         }
        },
        "title": {
         "text": "Distribution of Customers per Channels"
        }
       }
      }
     },
     "metadata": {},
     "output_type": "display_data"
    }
   ],
   "source": [
    "fig = go.Figure(data=[go.Histogram(x=ce['NCCC'],\n",
    "                                  xbins=dict(size=10000.0),)])\n",
    "\n",
    "fig.update_layout(title_text='Distribution of Customers per Channels')\n",
    "    \n",
    "    \n",
    "fig.show()"
   ]
  },
  {
   "cell_type": "code",
   "execution_count": 37,
   "metadata": {},
   "outputs": [
    {
     "data": {
      "text/plain": [
       "33"
      ]
     },
     "execution_count": 37,
     "metadata": {},
     "output_type": "execute_result"
    }
   ],
   "source": [
    "np.sum(ce['NCCC']<9000)"
   ]
  },
  {
   "cell_type": "code",
   "execution_count": 38,
   "metadata": {},
   "outputs": [
    {
     "data": {
      "text/plain": [
       "22"
      ]
     },
     "execution_count": 38,
     "metadata": {},
     "output_type": "execute_result"
    }
   ],
   "source": [
    "np.sum(ce['NCCC']<5000)"
   ]
  },
  {
   "cell_type": "markdown",
   "metadata": {},
   "source": [
    "The target for all state is to be more than 9000 rate of customers per channel. In order to implement this change reasonably, state should increase their average NC/CC by 15% every 4 months if the NC/CC rate is less than the 9000 rate, and 20% if less than the 5000 rate."
   ]
  },
  {
   "cell_type": "code",
   "execution_count": 39,
   "metadata": {},
   "outputs": [],
   "source": [
    "ce['NCCC'] = ce['NumbCustomers'] / ce['ComChannels']\n",
    "\n",
    "target_rate_9000 = 9000\n",
    "target_rate_5000 = 5000\n",
    "increase_15 = 1.15\n",
    "increase_20 = 1.20\n",
    "\n",
    "# First 4-month period adjustment\n",
    "ce['NewComChannels1'] = ce['ComChannels']\n",
    "ce.loc[ce['NCCC'] < target_rate_9000, 'NewComChannels1'] = round(ce['NumbCustomers'] / (ce['NCCC'] * increase_15))\n",
    "ce.loc[ce['NCCC'] < target_rate_5000, 'NewComChannels1'] = round(ce['NumbCustomers'] / (ce['NCCC'] * increase_20))\n",
    "ce['Savings1'] = (ce['ComChannels'] - ce['NewComChannels1']) \n",
    "\n",
    "# Second 4-month period adjustment\n",
    "ce['NewComChannels2'] = ce['NewComChannels1']\n",
    "ce.loc[ce['NumbCustomers'] / ce['NewComChannels1'] < target_rate_9000, 'NewComChannels2'] = round(ce['NumbCustomers'] / ((ce['NumbCustomers'] / ce['NewComChannels1']) * increase_15))\n",
    "ce.loc[ce['NumbCustomers'] / ce['NewComChannels1'] < target_rate_5000, 'NewComChannels2'] = round(ce['NumbCustomers'] / ((ce['NumbCustomers'] / ce['NewComChannels1']) * increase_20))\n",
    "ce['Savings2'] = (ce['NewComChannels1'] - ce['NewComChannels2']) \n",
    "\n",
    "# Third 4-month period adjustment\n",
    "ce['NewComChannels3'] = ce['NewComChannels2']\n",
    "ce.loc[ce['NumbCustomers'] / ce['NewComChannels2'] < target_rate_9000, 'NewComChannels3'] = round(ce['NumbCustomers'] / ((ce['NumbCustomers'] / ce['NewComChannels2']) * increase_15))\n",
    "ce.loc[ce['NumbCustomers'] / ce['NewComChannels2'] < target_rate_5000, 'NewComChannels3'] = round(ce['NumbCustomers'] / ((ce['NumbCustomers'] / ce['NewComChannels2']) * increase_20))\n",
    "ce['Savings3'] = (ce['NewComChannels2'] - ce['NewComChannels3']) \n",
    "\n",
    "# Calculate the final target number of communication channels to reach 9000 customers per channel\n",
    "ce['FinalTargetComChannels'] = ce['ComChannels']\n",
    "ce.loc[ce['NCCC'] < 9000, 'FinalTargetComChannels'] = np.floor(ce['NumbCustomers'] / 9000)\n",
    "ce['FinalSavings'] = (ce['ComChannels'] - ce['FinalTargetComChannels']) "
   ]
  },
  {
   "cell_type": "code",
   "execution_count": 40,
   "metadata": {},
   "outputs": [
    {
     "name": "stdout",
     "output_type": "stream",
     "text": [
      "After the first 4 months, number of communication channels available are reduced by 33 per year\n",
      "After 8 months, number of communication channels available are additionally reduced by 24 per year\n",
      "After 1 year, number of communication channels available are additionally reduced by 20 per year\n"
     ]
    }
   ],
   "source": [
    "print('After the first 4 months, number of communication channels available are reduced by', round(np.sum(ce['Savings1'])), 'per year')\n",
    "print('After 8 months, number of communication channels available are additionally reduced by', round(np.sum(ce['Savings2'])), 'per year')\n",
    "print('After 1 year, number of communication channels available are additionally reduced by', round(np.sum(ce['Savings3'])), 'per year' )"
   ]
  },
  {
   "cell_type": "markdown",
   "metadata": {},
   "source": [
    "**5.** (10 points) Estimate the cost savings from the implementation of your recommendations."
   ]
  },
  {
   "cell_type": "markdown",
   "metadata": {},
   "source": [
    "We have beforehand mentioned that we use 5000 USD per Communication Channels."
   ]
  },
  {
   "cell_type": "code",
   "execution_count": 41,
   "metadata": {},
   "outputs": [
    {
     "name": "stdout",
     "output_type": "stream",
     "text": [
      "The reduction in ComChannels after 1 year would be 77 per year, which results in estimated cost savings of 385000 USD per year.\n"
     ]
    }
   ],
   "source": [
    "print('The reduction in ComChannels after 1 year would be',round(np.sum(ce['Savings1']))+round(np.sum(ce['Savings2']))+round(np.sum(ce['Savings3'])), 'per year, which results in estimated cost savings of',(round(np.sum(ce['Savings1']))+round(np.sum(ce['Savings2']))+round(np.sum(ce['Savings3'])))*5000, 'USD per year.'  )"
   ]
  },
  {
   "cell_type": "code",
   "execution_count": 42,
   "metadata": {},
   "outputs": [
    {
     "name": "stdout",
     "output_type": "stream",
     "text": [
      "If all stores achieve the target, the expected cost savings would be 670000 USD per year.\n"
     ]
    }
   ],
   "source": [
    "print('If all stores achieve the target, the expected cost savings would be', np.sum(ce['FinalSavings'])*5000, 'USD per year.')"
   ]
  },
  {
   "cell_type": "markdown",
   "metadata": {},
   "source": [
    "After the model utilisation,ComChannels would be reduced by 33 in the first round (four-month period), purchase orders would be additionally reduced by 24 in the second round, and purchase orders would be additionally reduced by 20 in the third round. The estimated cost saving across after the first year is 385,000 USD per year. \n",
    "\n",
    "When all states reach the target, the yearly cost savings are 670,000 USD compared to the current state."
   ]
  }
 ],
 "metadata": {
  "kernelspec": {
   "display_name": "base",
   "language": "python",
   "name": "python3"
  },
  "language_info": {
   "codemirror_mode": {
    "name": "ipython",
    "version": 3
   },
   "file_extension": ".py",
   "mimetype": "text/x-python",
   "name": "python",
   "nbconvert_exporter": "python",
   "pygments_lexer": "ipython3",
   "version": "3.8.5"
  }
 },
 "nbformat": 4,
 "nbformat_minor": 2
}
